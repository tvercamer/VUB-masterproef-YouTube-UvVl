{
 "cells": [
  {
   "metadata": {},
   "cell_type": "markdown",
   "source": [
    "# Hypothese 1: Video’s met een expliciete CTA om een comment achter te laten, genereren significant meer comments dan video’s zonder een CTA.\n",
    "\n",
    "Om te testen of video’s met een CTA significant meer comments genereren dan video’s zonder CTA, wordt de Mann-Whitney U-test toegepast. Deze test is geschikt voor kleine steekproeven en vergelijkt de verdeling van comments tussen beide groepen zonder aanname van normaliteit. Daarnaast wordt de effectgrootte (Cliff’s delta) berekend om de praktische relevantie van eventuele verschillen te kwantificeren."
   ],
   "id": "a281c3504141998b"
  },
  {
   "metadata": {},
   "cell_type": "markdown",
   "source": [
    "## Stap 1: Klaarzetten van de notebook.\n",
    "\n",
    "In deze stap worden alle nodige libraries en data ingeladen en klaargezet.<br>\n",
    "Dit vereenvoudigt het verdere verloop van de notebook."
   ],
   "id": "23c05276d1661293"
  },
  {
   "metadata": {
    "ExecuteTime": {
     "end_time": "2025-03-10T06:42:10.928832Z",
     "start_time": "2025-03-10T06:42:10.926503Z"
    }
   },
   "cell_type": "code",
   "source": [
    "# Importeer standaard libraries\n",
    "import matplotlib.pyplot as plt\n",
    "import scipy.stats as stats\n",
    "import seaborn as sns\n",
    "import pandas as pd\n",
    "import numpy as np"
   ],
   "id": "966b598df2da4566",
   "outputs": [],
   "execution_count": 6
  },
  {
   "metadata": {
    "ExecuteTime": {
     "end_time": "2025-03-10T06:42:10.960978Z",
     "start_time": "2025-03-10T06:42:10.951779Z"
    }
   },
   "cell_type": "code",
   "source": [
    "# Importeer de data\n",
    "videos = pd.read_excel('../output/videos.xlsx')"
   ],
   "id": "bc0e24e9a57a6160",
   "outputs": [],
   "execution_count": 7
  },
  {
   "metadata": {},
   "cell_type": "markdown",
   "source": "## Stap 2: Uitvoeren van de verschillende analyses",
   "id": "61660f27fa2c1bbc"
  },
  {
   "metadata": {
    "ExecuteTime": {
     "end_time": "2025-03-10T06:43:27.021215Z",
     "start_time": "2025-03-10T06:43:27.017863Z"
    }
   },
   "cell_type": "code",
   "source": [
    "# Splits de data op in twee groepen: video's met en zonder CTA\n",
    "videos_with_cta = videos[videos['has_CTA']]\n",
    "videos_without_cta = videos[~videos['has_CTA']]\n",
    "\n",
    "comments_with_cta = videos_with_cta['comments']\n",
    "comments_without_cta = videos_without_cta['comments']"
   ],
   "id": "54d5b432a425f3e3",
   "outputs": [],
   "execution_count": 14
  },
  {
   "metadata": {
    "ExecuteTime": {
     "end_time": "2025-03-10T06:43:27.735633Z",
     "start_time": "2025-03-10T06:43:27.667725Z"
    }
   },
   "cell_type": "code",
   "source": [
    "# Boxplot om verschil duidelijk te maken\n",
    "plt.figure(figsize=(8, 6))\n",
    "sns.boxplot(x=videos['has_CTA'], y=videos['comments'])\n",
    "plt.title(\"Verdeling van comments per CTA-status\")\n",
    "plt.xlabel(\"has_CTA\")\n",
    "plt.ylabel(\"Aantal comments\")\n",
    "plt.show()"
   ],
   "id": "1b52c95db3310786",
   "outputs": [
    {
     "data": {
      "text/plain": [
       "<Figure size 800x600 with 1 Axes>"
      ],
      "image/png": "[encoded data removed]"
     },
     "metadata": {},
     "output_type": "display_data"
    }
   ],
   "execution_count": 15
  },
  {
   "metadata": {
    "ExecuteTime": {
     "end_time": "2025-03-10T06:43:28.322450Z",
     "start_time": "2025-03-10T06:43:28.317983Z"
    }
   },
   "cell_type": "code",
   "source": [
    "# Mann-Whitney U-test (Non-parametrisch, geen normaalverdeling vereist)\n",
    "stat, p_value = stats.mannwhitneyu(comments_with_cta, comments_without_cta, alternative='greater')\n",
    "print(f\"Mann-Whitney U-statistiek: {stat}, p-waarde: {p_value}\")"
   ],
   "id": "da43906d6ff85f12",
   "outputs": [
    {
     "name": "stdout",
     "output_type": "stream",
     "text": [
      "Mann-Whitney U-statistiek: 15.5, p-waarde: 0.5\n"
     ]
    }
   ],
   "execution_count": 16
  },
  {
   "metadata": {},
   "cell_type": "markdown",
   "source": "|Gezien een p-waarde van 0.5 > 0.05, kan de nulhypothese niet worden verworpen op basis van dit onderzoek. Er is geen bewijs dat video's met een CTA een impact heeft op het aantal comments.",
   "id": "42af6476b77b9dcc"
  },
  {
   "metadata": {
    "ExecuteTime": {
     "end_time": "2025-03-10T06:43:41.014344Z",
     "start_time": "2025-03-10T06:43:41.010942Z"
    }
   },
   "cell_type": "code",
   "source": [
    "# Effectgrootte: Cliff’s delta\n",
    "def cliffs_delta(x, y):\n",
    "    x = np.array(x)\n",
    "    y = np.array(y)\n",
    "    return (np.sum(x[:, None] > y) - np.sum(x[:, None] < y)) / (len(x) * len(y))\n",
    "\n",
    "delta = cliffs_delta(comments_with_cta, comments_without_cta)\n",
    "print(f\"Cliff's Delta: {delta}\")"
   ],
   "id": "c2b324c2f4db3f5c",
   "outputs": [
    {
     "name": "stdout",
     "output_type": "stream",
     "text": [
      "Cliff's Delta: 0.03333333333333333\n"
     ]
    }
   ],
   "execution_count": 17
  },
  {
   "metadata": {},
   "cell_type": "markdown",
   "source": "Een effectgrootte van 0.033 duidt op een verwaarloosbaar effect. Ook hier moeten we concluderen dat video's met een CTA niet significant meer comments genereren dan video's zonder CTA.",
   "id": "7a89fc5444ee4d46"
  },
  {
   "metadata": {},
   "cell_type": "markdown",
   "source": "Belangrijk is om dit in perspectief te plaatsen, gezien de beperkte grootte van de steekproef. Het is mogelijk dat een grotere steekproefomvang een significant effect zou aantonen. Dit kan verder onderzocht worden in toekomstig onderzoek.",
   "id": "d3e9e14615c9be5"
  },
  {
   "metadata": {},
   "cell_type": "code",
   "outputs": [],
   "execution_count": null,
   "source": "",
   "id": "2966b3c94c834b92"
  }
 ],
 "metadata": {
  "kernelspec": {
   "display_name": "Python 3",
   "language": "python",
   "name": "python3"
  },
  "language_info": {
   "codemirror_mode": {
    "name": "ipython",
    "version": 2
   },
   "file_extension": ".py",
   "mimetype": "text/x-python",
   "name": "python",
   "nbconvert_exporter": "python",
   "pygments_lexer": "ipython2",
   "version": "2.7.6"
  }
 },
 "nbformat": 4,
 "nbformat_minor": 5
}
