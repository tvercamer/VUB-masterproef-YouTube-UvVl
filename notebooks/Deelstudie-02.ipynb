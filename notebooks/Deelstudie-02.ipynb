{
 "cells": [
  {
   "metadata": {},
   "cell_type": "markdown",
   "source": [
    "# Deelstudie 2: Experimentele studie naar de impact van CTA’s op het aantal comments\n",
    "\n",
    "**Hypothese:** Video’s met een expliciete CTA om een comment achter te laten, genereren significant meer comments dan video’s zonder die CTA\n",
    "\n",
    "**Manier van werken:**\n",
    "- Beschrijvende statistiek\n",
    "- Normaliteitstoets\n",
    "- Groepsverschillen\n",
    "- Effectgrootte"
   ],
   "id": "2e1cff3149f6d48b"
  },
  {
   "metadata": {},
   "cell_type": "code",
   "source": [
    "# Import libraries\n",
    "import math\n",
    "import itertools\n",
    "import pandas as pd\n",
    "import pingouin as pg\n",
    "import seaborn as sns\n",
    "from scipy import stats\n",
    "import matplotlib.pyplot as plt"
   ],
   "id": "662f2ea814e9a72e",
   "outputs": [],
   "execution_count": null
  },
  {
   "metadata": {},
   "cell_type": "code",
   "source": [
    "# General settings\n",
    "sns.set_theme(palette='muted')"
   ],
   "id": "17cced1e8970f97a",
   "outputs": [],
   "execution_count": null
  },
  {
   "metadata": {},
   "cell_type": "code",
   "source": [
    "# Import data\n",
    "videos = pd.read_excel('../data/exp_videos.xlsx', index_col=0)\n",
    "videos"
   ],
   "id": "f9cf200f9c585d16",
   "outputs": [],
   "execution_count": null
  },
  {
   "metadata": {},
   "cell_type": "code",
   "source": [
    "# Get info about the data\n",
    "print(videos.shape)\n",
    "print(videos.dtypes)"
   ],
   "id": "3488f61960a02ff0",
   "outputs": [],
   "execution_count": null
  },
  {
   "metadata": {},
   "cell_type": "markdown",
   "source": "## STAP 1: Beschrijvende statistiek",
   "id": "b544c0f0477f1097"
  },
  {
   "metadata": {},
   "cell_type": "markdown",
   "source": "### 1.1 Algemeen overzicht",
   "id": "617d1369220d036a"
  },
  {
   "metadata": {},
   "cell_type": "code",
   "source": [
    "engagement_features = ['comments', 'views', 'likes', 'dislikes', 'shares', 'engagement']\n",
    "videos[engagement_features].describe().T"
   ],
   "id": "e37777f4f91c32c1",
   "outputs": [],
   "execution_count": null
  },
  {
   "metadata": {},
   "cell_type": "code",
   "source": [
    "# Histogram engagement metrics\n",
    "n_metrics = len(engagement_features)\n",
    "n_cols = 2\n",
    "n_rows = math.ceil(n_metrics / n_cols)\n",
    "\n",
    "fig, axes = plt.subplots(n_rows, n_cols, figsize=(12, 4 * n_rows))\n",
    "for i, var in enumerate(engagement_features):\n",
    "    row, col = divmod(i, n_cols)\n",
    "    sns.histplot(videos[var], kde=True, ax=axes[row, col])\n",
    "    axes[row, col].set_title(f'Distributie: {var.capitalize()}')\n",
    "    axes[row, col].set_xlabel(var.capitalize())\n",
    "    axes[row, col].set_ylabel('Frequentie')\n",
    "plt.tight_layout()\n",
    "plt.show()"
   ],
   "id": "51f2c18bbb725652",
   "outputs": [],
   "execution_count": null
  },
  {
   "metadata": {},
   "cell_type": "code",
   "source": [
    "fig, axes = plt.subplots(n_rows, n_cols, figsize=(12, 4 * n_rows))\n",
    "for i, var in enumerate(engagement_features):\n",
    "    row, col = divmod(i, n_cols)\n",
    "    sns.boxplot(x=videos[var], ax=axes[row, col])\n",
    "    axes[row, col].set_title(f'Boxplot: {var.capitalize()}')\n",
    "    axes[row, col].set_xlabel(var.capitalize())\n",
    "plt.tight_layout()\n",
    "plt.show()"
   ],
   "id": "4bb8b79d88b2ea5b",
   "outputs": [],
   "execution_count": null
  },
  {
   "metadata": {},
   "cell_type": "markdown",
   "source": "### 1.2 Opdeling in groepen (met/zonder CTA)",
   "id": "2ae36b6879e3bdb9"
  },
  {
   "metadata": {},
   "cell_type": "code",
   "source": [
    "# Divide videos into two groups: with CTA and without CTA\n",
    "cta = videos[videos['has_CTA'] == True]\n",
    "no_cta = videos[videos['has_CTA'] == False]"
   ],
   "id": "f2a7613a5b5f0be9",
   "outputs": [],
   "execution_count": null
  },
  {
   "metadata": {},
   "cell_type": "code",
   "source": [
    "print(\"Video's MET CTA\")\n",
    "cta[engagement_features].describe().T"
   ],
   "id": "cf816de91e8974eb",
   "outputs": [],
   "execution_count": null
  },
  {
   "metadata": {},
   "cell_type": "code",
   "source": [
    "print(\"Video's ZONDER CTA\")\n",
    "no_cta[engagement_features].describe().T"
   ],
   "id": "f473cb8db264f07d",
   "outputs": [],
   "execution_count": null
  },
  {
   "metadata": {},
   "cell_type": "code",
   "source": [
    "# Histogram\n",
    "videos['CTA_label'] = videos['has_CTA'].map({False: 'Zonder CTA', True: 'Met CTA'})\n",
    "\n",
    "# Plot\n",
    "fig, axes = plt.subplots(n_rows, n_cols, figsize=(12, 4 * n_rows))\n",
    "cta_palette = {'Zonder CTA': 'red', 'Met CTA': 'green'}\n",
    "for i, var in enumerate(engagement_features):\n",
    "    row, col = divmod(i, n_cols)\n",
    "    sns.histplot(\n",
    "        data=videos,\n",
    "        x=var,\n",
    "        hue='CTA_label',\n",
    "        kde=True,\n",
    "        ax=axes[row, col],\n",
    "        element='step',\n",
    "        common_norm=False,\n",
    "        palette=cta_palette\n",
    "    )\n",
    "    axes[row, col].set_title(f'Distributie van {var}')\n",
    "    axes[row, col].set_xlabel(var.capitalize())\n",
    "    axes[row, col].set_ylabel('Frequentie')\n",
    "plt.tight_layout()\n",
    "plt.show()"
   ],
   "id": "6de725747efcd255",
   "outputs": [],
   "execution_count": null
  },
  {
   "metadata": {},
   "cell_type": "code",
   "source": [
    "# Boxplot\n",
    "videos['CTA_label'] = videos['has_CTA'].map({False: 'Zonder CTA', True: 'Met CTA'})\n",
    "\n",
    "# Parameters\n",
    "n_metrics = len(engagement_features)\n",
    "n_cols = 2\n",
    "n_rows = math.ceil(n_metrics / n_cols)\n",
    "\n",
    "# Subplots genereren\n",
    "fig, axes = plt.subplots(n_rows, n_cols, figsize=(12, 4 * n_rows))\n",
    "cta_palette = {'Zonder CTA': 'red', 'Met CTA': 'green'}\n",
    "for i, var in enumerate(engagement_features):\n",
    "    row, col = divmod(i, n_cols)\n",
    "    sns.boxplot(x='CTA_label', y=var, data=videos, ax=axes[row, col], palette=cta_palette, hue='CTA_label')\n",
    "    axes[row, col].set_title(f'{var.capitalize()} per groep')\n",
    "    axes[row, col].set_xlabel('CTA aanwezig')\n",
    "    axes[row, col].set_ylabel(var.capitalize())\n",
    "plt.tight_layout()\n",
    "plt.show()"
   ],
   "id": "a0eff732eb856641",
   "outputs": [],
   "execution_count": null
  },
  {
   "metadata": {},
   "cell_type": "markdown",
   "source": "### 1.3 Tijdsevolutie van engagement metrics",
   "id": "e7099a5d546f6151"
  },
  {
   "metadata": {},
   "cell_type": "code",
   "source": [
    "# Define measurement points\n",
    "timepoints = ['24h', '1w', '2w', '1m', '2m', '3m']\n",
    "time_labels = ['24u', '1w', '2w', '1m', '2m', '3m']"
   ],
   "id": "8b61a1de467c8c94",
   "outputs": [],
   "execution_count": null
  },
  {
   "metadata": {},
   "cell_type": "code",
   "source": [
    "def plot_time_evolution(metric: str):\n",
    "    columns = [f\"{metric}_{tp}\" for tp in timepoints]\n",
    "\n",
    "    # Average values per group per period\n",
    "    cta_group = videos[videos['CTA_label'] == 'Met CTA'][columns].mean()\n",
    "    no_cta_group = videos[videos['CTA_label'] == 'Zonder CTA'][columns].mean()\n",
    "\n",
    "    # Plot\n",
    "    plt.figure(figsize=(10, 5))\n",
    "    plt.plot(time_labels, no_cta_group, marker='o', label='Zonder CTA', color='red')\n",
    "    plt.plot(time_labels, cta_group, marker='o', label='Met CTA', color='green')\n",
    "    plt.title(f'Tijdsevolutie van {metric}')\n",
    "    plt.xlabel('Tijd sinds publicatie')\n",
    "    plt.ylabel(f'Gemiddelde {metric}')\n",
    "    plt.legend()\n",
    "    plt.grid(True)\n",
    "    plt.tight_layout()\n",
    "    plt.show()"
   ],
   "id": "fcba0d498029f1f",
   "outputs": [],
   "execution_count": null
  },
  {
   "metadata": {},
   "cell_type": "code",
   "source": [
    "plot_time_evolution('comments')\n",
    "plot_time_evolution('views')\n",
    "plot_time_evolution('likes')\n",
    "plot_time_evolution('dislikes')\n",
    "plot_time_evolution('shares')\n",
    "plot_time_evolution('engagement_rate')"
   ],
   "id": "2d76820c5b522cd5",
   "outputs": [],
   "execution_count": null
  },
  {
   "metadata": {},
   "cell_type": "markdown",
   "source": "### 1.4 Vergelijking met grotere dataset",
   "id": "66fb93b2d7282b4b"
  },
  {
   "metadata": {},
   "cell_type": "code",
   "source": "videos_full = pd.read_excel('./data/videos.xlsx', index_col=0)",
   "id": "cf49f62de619c47f",
   "outputs": [],
   "execution_count": null
  },
  {
   "metadata": {},
   "cell_type": "code",
   "source": "videos.columns.difference(videos_full.columns)",
   "id": "2e953980ded3b124",
   "outputs": [],
   "execution_count": null
  },
  {
   "metadata": {},
   "cell_type": "code",
   "source": "videos_full.columns.difference(videos.columns)",
   "id": "9a84a3ccfa6cd252",
   "outputs": [],
   "execution_count": null
  },
  {
   "metadata": {},
   "cell_type": "code",
   "source": [
    "def compare_detailed_time_evolution(metric: str):\n",
    "    # Required columns\n",
    "    columns = [f\"{metric}_{tp}\" for tp in timepoints]\n",
    "\n",
    "    # Calc means\n",
    "    full_mean = videos_full[columns].mean()\n",
    "    exp_total = videos[columns].mean()\n",
    "    exp_cta = videos[videos['CTA_label'] == 'Met CTA'][columns].mean()\n",
    "    exp_nocta = videos[videos['CTA_label'] == 'Zonder CTA'][columns].mean()\n",
    "\n",
    "    # Plots\n",
    "    plt.figure(figsize=(10, 5))\n",
    "\n",
    "    # Full dataset\n",
    "    plt.plot(time_labels, full_mean, label='Volledige dataset', color='gray', linewidth=2)\n",
    "\n",
    "    # Experiment totals\n",
    "    plt.plot(time_labels, exp_total, label='Experiment – totaal', color='blue', linewidth=2)\n",
    "\n",
    "    # CTA\n",
    "    plt.plot(time_labels, exp_cta, label='Experiment – met CTA', color='green',\n",
    "             linestyle='--', linewidth=2)\n",
    "\n",
    "    # No CTA\n",
    "    plt.plot(time_labels, exp_nocta, label='Experiment – zonder CTA', color='red',\n",
    "             linestyle='--', linewidth=2)\n",
    "\n",
    "    # Titles and labels\n",
    "    plt.title(f'Tijdsevolutie van {metric}: vergelijking experiment vs populatie')\n",
    "    plt.xlabel('Tijd sinds publicatie')\n",
    "    plt.ylabel(f'Gemiddelde {metric}')\n",
    "    plt.legend()\n",
    "    plt.grid(True)\n",
    "    plt.tight_layout()\n",
    "    plt.show()"
   ],
   "id": "207db1d9650e407f",
   "outputs": [],
   "execution_count": null
  },
  {
   "metadata": {},
   "cell_type": "code",
   "source": [
    "compare_detailed_time_evolution('comments')\n",
    "compare_detailed_time_evolution('views')\n",
    "compare_detailed_time_evolution('likes')\n",
    "compare_detailed_time_evolution('dislikes')\n",
    "compare_detailed_time_evolution('shares')\n",
    "compare_detailed_time_evolution('engagement_rate')"
   ],
   "id": "2c8af2e3d807c8d7",
   "outputs": [],
   "execution_count": null
  },
  {
   "metadata": {},
   "cell_type": "code",
   "source": [
    "def plot_relative_deviation_from_full(metric: str):\n",
    "    columns = [f\"{metric}_{tp}\" for tp in timepoints]\n",
    "\n",
    "    # Average values per period\n",
    "    full = videos_full[columns].mean()\n",
    "    total = videos[columns].mean()\n",
    "    with_cta = videos[videos['CTA_label'] == 'Met CTA'][columns].mean()\n",
    "    without_cta = videos[videos['CTA_label'] == 'Zonder CTA'][columns].mean()\n",
    "\n",
    "    # Calc deviation in %\n",
    "    total_pct = ((total - full) / full) * 100\n",
    "    cta_pct = ((with_cta - full) / full) * 100\n",
    "    nocta_pct = ((without_cta - full) / full) * 100\n",
    "\n",
    "    # Plot\n",
    "    plt.figure(figsize=(10, 5))\n",
    "    plt.axhline(0, color='black', linestyle='--', linewidth=1)\n",
    "\n",
    "    plt.plot(time_labels, total_pct, label='Experiment – totaal', color='blue', marker='o')\n",
    "    plt.plot(time_labels, cta_pct, label='Experiment – met CTA', color='green', marker='o', linestyle='--')\n",
    "    plt.plot(time_labels, nocta_pct, label='Experiment – zonder CTA', color='red', marker='o', linestyle='--')\n",
    "\n",
    "    plt.title(f'Procentuele afwijking t.o.v. kanaalgemiddelde – {metric}')\n",
    "    plt.xlabel('Tijd sinds publicatie')\n",
    "    plt.ylabel('Afwijking (%) t.o.v. videos_full')\n",
    "    plt.legend()\n",
    "    plt.grid(True)\n",
    "    plt.tight_layout()\n",
    "    plt.show()"
   ],
   "id": "4d7065d0a99e1e76",
   "outputs": [],
   "execution_count": null
  },
  {
   "metadata": {},
   "cell_type": "code",
   "source": [
    "plot_relative_deviation_from_full('comments')\n",
    "plot_relative_deviation_from_full('views')\n",
    "plot_relative_deviation_from_full('likes')\n",
    "plot_relative_deviation_from_full('dislikes')\n",
    "plot_relative_deviation_from_full('shares')\n",
    "plot_relative_deviation_from_full('engagement_rate')"
   ],
   "id": "d8b24613a0f33791",
   "outputs": [],
   "execution_count": null
  },
  {
   "metadata": {},
   "cell_type": "markdown",
   "source": "## STAP 2: Normaliteitstoets",
   "id": "2882309b5d7d6c8"
  },
  {
   "metadata": {},
   "cell_type": "code",
   "source": [
    "# Create subgroups\n",
    "with_cta = videos[videos['CTA_label'] == 'Met CTA']['comments']\n",
    "without_cta = videos[videos['CTA_label'] == 'Zonder CTA']['comments']\n",
    "\n",
    "# Shapiro-Wilk test\n",
    "shapiro_with = stats.shapiro(with_cta)\n",
    "shapiro_without = stats.shapiro(without_cta)\n",
    "\n",
    "# Results\n",
    "print(\"Shapiro-Wilk – Met CTA\")\n",
    "print(f\"  W-statistic: {shapiro_with.statistic:.4f}\")\n",
    "print(f\"  p-value: {shapiro_with.pvalue:.4f}\")\n",
    "print(f\"  Skewness: {with_cta.skew():.4f}\")\n",
    "print()\n",
    "\n",
    "print(\"Shapiro-Wilk – Zonder CTA\")\n",
    "print(f\"  W-statistic: {shapiro_without.statistic:.4f}\")\n",
    "print(f\"  p-value: {shapiro_without.pvalue:.4f}\")\n",
    "print(f\"  Skewness: {without_cta.skew():.4f}\")"
   ],
   "id": "34586ba5df0c7837",
   "outputs": [],
   "execution_count": null
  },
  {
   "metadata": {},
   "cell_type": "markdown",
   "source": [
    "### Resultaten en interpretatie normaliteitstoets\n",
    "\n",
    "Om te bepalen welke statistische toets geschikt is voor de vergelijking tussen video’s met en zonder CTA, werd de normaliteit van de verdeling van het aantal comments per groep geëvalueerd. Hiervoor werd de Shapiro-Wilk test toegepast, aangevuld met een analyse van de skewness.\n",
    "\n",
    "**Samenvatting van de resultaten:**\n",
    "\n",
    "- **Met CTA:**\n",
    "    - W-statistic: 0.9596\n",
    "    - p-value: 0.8165\n",
    "    - Skewness: 0.6091\n",
    "\n",
    "- **Zonder CTA:**\n",
    "    - W-statistic: 0.8668\n",
    "    - p-value: 0.2538\n",
    "    - Skewness: 0.5672\n",
    "\n",
    "**Interpretatie**\n",
    "\n",
    "Voor beide groepen is de p-waarde van de Shapiro-Wilk test niet significant (p > 0.05), wat betekent dat er geen statistisch bewijs is voor een afwijking van normaliteit. Daarnaast liggen de skewness-waarden voor beide groepen tussen +0.5 en +1, wat wijst op een lichte tot matige rechtsscheefheid, maar nog binnen aanvaardbare grenzen (Field, 2018). Op basis van deze bevindingen kan worden geconcludeerd dat de verdelingen van het aantal comments binnen beide groepen voldoende normaal zijn om de onafhankelijke t-test toe te passen.\n",
    "\n",
    "Gezien de beperkte steekproefomvang (n = 11) wordt daarnaast ook een niet-parametrische toets (Mann-Whitney U-test) uitgevoerd ter controle, conform de methodologische richtlijnen voor robuustheid in kleine steekproeven."
   ],
   "id": "81575dcd617da6bc"
  },
  {
   "metadata": {},
   "cell_type": "markdown",
   "source": "## STAP 3: Groepsverschillen",
   "id": "fa662afbb8877771"
  },
  {
   "metadata": {},
   "cell_type": "code",
   "source": [
    "# T-test\n",
    "t_stat, p_val = stats.ttest_ind(with_cta, without_cta, equal_var=False)  # Welch's t-test\n",
    "\n",
    "# Results\n",
    "print(\"T-test – Met vs Zonder CTA\")\n",
    "print(f\"  t-statistic: {t_stat:.4f}\")\n",
    "print(f\"  p-value: {p_val:.4f}\")"
   ],
   "id": "c232d577fdc92e93",
   "outputs": [],
   "execution_count": null
  },
  {
   "metadata": {},
   "cell_type": "code",
   "source": [
    "# Mann-Whitney test\n",
    "u_stat, p_mwu = stats.mannwhitneyu(with_cta, without_cta, alternative='two-sided')\n",
    "\n",
    "# Results\n",
    "print(\"Mann-Whitney U-test – Met vs Zonder CTA\")\n",
    "print(f\"  U-statistic: {u_stat:.4f}\")\n",
    "print(f\"  p-value: {p_mwu:.4f}\")"
   ],
   "id": "7510c6ad1ba06742",
   "outputs": [],
   "execution_count": null
  },
  {
   "metadata": {},
   "cell_type": "markdown",
   "source": [
    "### Resultaten en interpretatie van de hypothesetoetsing\n",
    "\n",
    "Om te onderzoeken of educatieve YouTube-video’s met een expliciete Call-To-Action (CTA) significant meer comments genereren dan video’s zonder CTA, werden zowel een parametrische als een niet-parametrische toets uitgevoerd.\n",
    "\n",
    "**Samenvatting van de resultaten:**\n",
    "\n",
    "- **Onafhankelijke t-test (Welch):**\n",
    "    - t-statistic: -0.3008\n",
    "    - p-value: 0.7746\n",
    "\n",
    "- **Mann-Whitney U-test:**\n",
    "    - U-statistic: 15.5000\n",
    "    - p-value: 1.0000\n",
    "\n",
    "**Interpretatie**\n",
    "\n",
    "Beide toetsen tonen geen significant verschil in het aantal gegenereerde comments tussen video’s met en zonder CTA. De p-waarden (respectievelijk 0.7746 en 1.0000) liggen ver boven de gebruikelijke drempel van α = 0.05, wat betekent dat er geen statistisch bewijs is dat de aanwezigheid van een CTA leidt tot een hoger gemiddeld aantal comments.\n",
    "\n",
    "Deze bevinding staat op het eerste gezicht in contrast met de oorspronkelijke hypothese. Toch moet deze uitkomst genuanceerd worden in het licht van de beperkte steekproefgrootte (n = 11), waardoor de kans op een Type II-fout (ten onrechte niet-significant resultaat) reëel is. Bovendien werd in eerdere descriptieve analyses en tijdsevoluties wel degelijk een zichtbaar verschil waargenomen tussen video’s met en zonder CTA, wat suggereert dat het effect mogelijks bestaat, maar niet met voldoende statistische kracht kan worden aangetoond.\n",
    "\n",
    "Om die reden is het aangewezen om aanvullend de effectgrootte te berekenen, zodat de praktische relevantie van het waargenomen verschil alsnog kan worden geëvalueerd."
   ],
   "id": "fd8916ca7459e86a"
  },
  {
   "metadata": {},
   "cell_type": "markdown",
   "source": "## STAP 4: Effectgrootte",
   "id": "9fa8696ba07d943d"
  },
  {
   "metadata": {},
   "cell_type": "code",
   "source": [
    "# Compute Cohen's d (Welch variant standaard in pingouin)\n",
    "cohen_result = pg.compute_effsize(with_cta, without_cta, eftype='cohen', paired=False)\n",
    "print(f\"Cohen's d: {cohen_result:.4f}\")"
   ],
   "id": "d5390e84e74fc945",
   "outputs": [],
   "execution_count": null
  },
  {
   "metadata": {},
   "cell_type": "code",
   "source": [
    "# Function to calculate Cliff's Delta\n",
    "def cliffs_delta(x, y):\n",
    "    n = 0\n",
    "    for xi, yi in itertools.product(x, y):\n",
    "        if xi > yi:\n",
    "            n += 1\n",
    "        elif xi < yi:\n",
    "            n -= 1\n",
    "    delta = n / (len(x) * len(y))\n",
    "    return delta\n",
    "\n",
    "# Calculate Cliff's Delta\n",
    "delta = cliffs_delta(with_cta, without_cta)\n",
    "print(f\"Cliff's Delta: {delta:.4f}\")"
   ],
   "id": "5e5723a11c4466ab",
   "outputs": [],
   "execution_count": null
  },
  {
   "metadata": {},
   "cell_type": "markdown",
   "source": [
    "### Resultaten en interpretatie van de effectgroottes\n",
    "\n",
    "Aangezien de hypothesetoetsing geen significant verschil opleverde, werden aanvullende effectgroottes berekend om de praktische relevantie van het verschil in commentgedrag tussen video’s met en zonder CTA te evalueren.\n",
    "\n",
    "**Samenvatting van de resultaten:**\n",
    "\n",
    "- **Cohen’s d:** -0.1942\n",
    "- **Cliff’s Delta:** 0.0333\n",
    "\n",
    "**Interpretatie**\n",
    "\n",
    "De waarde van Cohen’s *d* bedraagt -0.1942, wat neerkomt op een klein tot verwaarloosbaar effect (Cohen, 1988). In absolute termen ligt de d-waarde onder de drempel van 0.2 die doorgaans als minimale indicatie voor een klein effect wordt beschouwd.\n",
    "\n",
    "Cliff’s Delta bedraagt 0.0333, wat volgens de interpretatierichtlijnen van Romano et al. (2006) eveneens wijst op een verwaarloosbaar effect (< 0.11). Dit betekent dat de kans dat een video met CTA méér comments genereert dan een video zonder CTA, slechts marginaal hoger ligt dan kansniveau.\n",
    "\n",
    "Beide effectgroottes bevestigen dat het verschil tussen de twee groepen niet alleen statistisch niet significant is, maar ook **praktisch beperkt**. In combinatie met de kleine steekproefgrootte blijft het echter belangrijk om voorzichtig te zijn met harde conclusies; een groter experiment zou nodig zijn om definitief uitsluitsel te geven over de werkelijke effectiviteit van CTA’s in dit opzicht."
   ],
   "id": "ca5dfff7cf0a3a1b"
  },
  {
   "metadata": {},
   "cell_type": "code",
   "source": "",
   "id": "312dde3194a30177",
   "outputs": [],
   "execution_count": null
  }
 ],
 "metadata": {
  "kernelspec": {
   "display_name": "Python 3",
   "language": "python",
   "name": "python3"
  },
  "language_info": {
   "codemirror_mode": {
    "name": "ipython",
    "version": 2
   },
   "file_extension": ".py",
   "mimetype": "text/x-python",
   "name": "python",
   "nbconvert_exporter": "python",
   "pygments_lexer": "ipython2",
   "version": "2.7.6"
  }
 },
 "nbformat": 4,
 "nbformat_minor": 5
}
