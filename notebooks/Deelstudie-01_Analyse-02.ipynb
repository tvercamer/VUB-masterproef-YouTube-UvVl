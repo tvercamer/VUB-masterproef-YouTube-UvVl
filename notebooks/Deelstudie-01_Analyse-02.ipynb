{
 "cells": [
  {
   "metadata": {},
   "cell_type": "markdown",
   "source": [
    "# Deelstudie 1: Retrospectieve analyse van historische YouTube-data - Invloed van comment-sentiment op het aantal views\n",
    "\n",
    "**Hypothese:** Video’s waarvan de comments een positief sentiment hebben, vertonen een significant hoger aantal views\n",
    "\n",
    "**Manier van werken:**\n",
    "- Beschrijvende statistiek\n",
    "- Normaliteitstoets\n",
    "- Correlatieanalyse\n",
    "- Categorie-analyse: views tussen positief/negatief/neutraal sentiment\n",
    "- Post-hoc analyse indien significant verschil"
   ],
   "id": "7e28fe0bc32f07f7"
  },
  {
   "metadata": {},
   "cell_type": "code",
   "source": [
    "# Import libraries\n",
    "import numpy as np\n",
    "import pandas as pd\n",
    "import seaborn as sns\n",
    "import scipy.stats as stats\n",
    "import scikit_posthocs as sp\n",
    "import matplotlib.pyplot as plt\n",
    "import matplotlib.ticker as mtick\n",
    "from vaderSentiment.vaderSentiment import SentimentIntensityAnalyzer"
   ],
   "id": "737a5c4e9d874937",
   "outputs": [],
   "execution_count": null
  },
  {
   "metadata": {},
   "cell_type": "code",
   "source": [
    "# General settings\n",
    "sns.set_theme(palette='muted')"
   ],
   "id": "fd05c7e28e4ceade",
   "outputs": [],
   "execution_count": null
  },
  {
   "metadata": {},
   "cell_type": "code",
   "source": [
    "# Import video data\n",
    "videos = pd.read_excel('../data/videos.xlsx', index_col=0)\n",
    "videos"
   ],
   "id": "80ae56136ede9a98",
   "outputs": [],
   "execution_count": null
  },
  {
   "metadata": {},
   "cell_type": "code",
   "source": [
    "# Import comments data\n",
    "comments = pd.read_excel('../data/comments.xlsx', index_col=1)\n",
    "comments"
   ],
   "id": "6017871dab69d19d",
   "outputs": [],
   "execution_count": null
  },
  {
   "metadata": {},
   "cell_type": "code",
   "source": [
    "# Get info about the video data\n",
    "print(videos.shape)\n",
    "print(videos.dtypes)"
   ],
   "id": "ceb3e21e82f2608e",
   "outputs": [],
   "execution_count": null
  },
  {
   "metadata": {},
   "cell_type": "code",
   "source": [
    "# Get info about the comments data\n",
    "print(comments.shape)\n",
    "print(comments.dtypes)"
   ],
   "id": "f8f336dccc7dcbed",
   "outputs": [],
   "execution_count": null
  },
  {
   "metadata": {},
   "cell_type": "markdown",
   "source": "## STAP 1: Sentiment berekenen",
   "id": "a5a2405f23d06b54"
  },
  {
   "metadata": {},
   "cell_type": "markdown",
   "source": "### 1.1 Sentimentscore per comment",
   "id": "4163b6c1b48eef57"
  },
  {
   "metadata": {},
   "cell_type": "code",
   "source": [
    "# Initialize VADER\n",
    "analyzer = SentimentIntensityAnalyzer()"
   ],
   "id": "c2082f84ffed131a",
   "outputs": [],
   "execution_count": null
  },
  {
   "metadata": {},
   "cell_type": "code",
   "source": [
    "# Calculate sentiment scores for Deepl translated comments\n",
    "comments['sentiment_deepl'] = comments['en_deepl'].apply(\n",
    "    lambda x: analyzer.polarity_scores(x)['compound'] if isinstance(x, str) else np.nan\n",
    ")"
   ],
   "id": "25550e12705738fd",
   "outputs": [],
   "execution_count": null
  },
  {
   "metadata": {},
   "cell_type": "code",
   "source": [
    "# Check if Google translation exists and calculate; otherwise use Deepl score\n",
    "comments['sentiment_google'] = comments.apply(\n",
    "    lambda row: analyzer.polarity_scores(row['en_google'])['compound']\n",
    "    if isinstance(row['en_google'], str)\n",
    "    else row['sentiment_deepl'],\n",
    "    axis=1\n",
    ")"
   ],
   "id": "fdb97280e6b97ff8",
   "outputs": [],
   "execution_count": null
  },
  {
   "metadata": {},
   "cell_type": "code",
   "source": [
    "# Calculate the sentiment score as the average of the two methods\n",
    "comments['sentiment'] = comments[['sentiment_google', 'sentiment_deepl']].mean(axis=1, skipna=True)\n",
    "\n",
    "# Filter out comments without a valid sentiment score\n",
    "comments = comments[comments['sentiment'].notna()].copy()"
   ],
   "id": "84d3eeee77511931",
   "outputs": [],
   "execution_count": null
  },
  {
   "metadata": {},
   "cell_type": "markdown",
   "source": "### 1.2 Sentimentscore per video",
   "id": "82251045021f433a"
  },
  {
   "metadata": {},
   "cell_type": "code",
   "source": [
    "# Calculate the average comment sentiment per video\n",
    "video_sentiment_score = comments.groupby(comments.index)['sentiment'].mean()\n",
    "\n",
    "# Add data to videos dataframe\n",
    "videos['sentiment_score'] = videos.index.to_series().map(video_sentiment_score)\n",
    "\n",
    "# Filter videos to only include those with comments\n",
    "# Alternative: regard comments without comments as neutral --> this introduces a bias, so I did not opt for this\n",
    "videos = videos[videos['sentiment_score'].notna()].copy()"
   ],
   "id": "d2d40f29d325eee5",
   "outputs": [],
   "execution_count": null
  },
  {
   "metadata": {},
   "cell_type": "code",
   "source": [
    "# Categorize sentiment score\n",
    "def categorize_sentiment(score):\n",
    "    if pd.isna(score):\n",
    "        return 'geen data' # There shouldn't be any NaN values, but just in case\n",
    "    elif score > 0.05:\n",
    "        return 'positief'\n",
    "    elif score < -0.05:\n",
    "        return 'negatief'\n",
    "    else:\n",
    "        return 'neutraal'\n",
    "\n",
    "comments['sentiment_category'] = comments['sentiment'].apply(categorize_sentiment)\n",
    "videos['sentiment_category'] = videos['sentiment_score'].apply(categorize_sentiment)"
   ],
   "id": "78f894ed644836d3",
   "outputs": [],
   "execution_count": null
  },
  {
   "metadata": {},
   "cell_type": "markdown",
   "source": "## STAP 2: Beschrijvende statistiek",
   "id": "19f04321be48a4da"
  },
  {
   "metadata": {},
   "cell_type": "markdown",
   "source": "### 2.1 Comment niveau",
   "id": "d69d1004ae3450c9"
  },
  {
   "metadata": {},
   "cell_type": "code",
   "source": [
    "# Get the number of comments per sentiment category\n",
    "comment_counts = comments['sentiment_category'].value_counts(dropna=False).to_frame(name='Aantal comments')\n",
    "comment_counts['Percentage (%)'] = (comment_counts['Aantal comments'] / comment_counts['Aantal comments'].sum() * 100).round(3)\n",
    "comment_counts"
   ],
   "id": "7fe16207d2b1466f",
   "outputs": [],
   "execution_count": null
  },
  {
   "metadata": {},
   "cell_type": "code",
   "source": [
    "# Sentiment score statistics\n",
    "comments['sentiment'].describe().round(3)"
   ],
   "id": "4e4410441c64081f",
   "outputs": [],
   "execution_count": null
  },
  {
   "metadata": {},
   "cell_type": "code",
   "source": [
    "# Calc shares per sentiment category\n",
    "comment_counts = comments['sentiment_category'].value_counts()\n",
    "percentages = comment_counts / comment_counts.sum() * 100\n",
    "\n",
    "# Plot pie chart\n",
    "category_colors = ['green', 'red', 'lightblue']\n",
    "plt.figure(figsize=(6, 6))\n",
    "wedges, texts, autotexts = plt.pie(\n",
    "    percentages,\n",
    "    autopct='%.1f%%',\n",
    "    startangle=90,\n",
    "    colors=category_colors,\n",
    ")\n",
    "plt.legend(wedges, percentages.index, title='Sentimentcategorie', loc='center left', bbox_to_anchor=(1, 0.5))\n",
    "plt.title('Verdeling van comments per sentimentcategorie')\n",
    "plt.tight_layout()\n",
    "plt.show()"
   ],
   "id": "397bac3e485ac22d",
   "outputs": [],
   "execution_count": null
  },
  {
   "metadata": {},
   "cell_type": "code",
   "source": [
    "# Create side-by-side plots\n",
    "fig, axes = plt.subplots(1, 2, figsize=(12, 5))\n",
    "\n",
    "# Histogram\n",
    "sns.histplot(comments['sentiment'].dropna(), kde=True, ax=axes[0])\n",
    "axes[0].set_title('Distributie sentimentscore (per comment)')\n",
    "axes[0].set_xlabel('Sentimentscore')\n",
    "axes[0].set_ylabel('Frequentie')\n",
    "\n",
    "# Boxplot\n",
    "sns.boxplot(x=comments['sentiment'].dropna(), ax=axes[1])\n",
    "axes[1].set_title('Boxplot sentimentscore (per comment)')\n",
    "axes[1].set_xlabel('Sentimentscore')\n",
    "\n",
    "plt.tight_layout()\n",
    "plt.show()"
   ],
   "id": "61e4d3931a4c233e",
   "outputs": [],
   "execution_count": null
  },
  {
   "metadata": {},
   "cell_type": "code",
   "source": [
    "# Set sentiment categories\n",
    "categories = ['positief', 'neutraal', 'negatief']\n",
    "n_cat = len(categories)\n",
    "\n",
    "# Subplot settings\n",
    "fig, axes = plt.subplots(2, n_cat, figsize=(5 * n_cat, 8))\n",
    "\n",
    "# Plot per category\n",
    "for i, cat in enumerate(categories):\n",
    "    subset = comments[comments['sentiment_category'] == cat]['sentiment'].dropna()\n",
    "\n",
    "    # Calc statistics\n",
    "    mean = subset.mean()\n",
    "    median = subset.median()\n",
    "    std = subset.std()\n",
    "\n",
    "    # Histogram\n",
    "    sns.histplot(subset, kde=True, ax=axes[0, i])\n",
    "    axes[0, i].set_title(f'Distributie - {cat}')\n",
    "    axes[0, i].set_xlabel('Sentimentscore')\n",
    "    axes[0, i].set_ylabel('Frequentie')\n",
    "\n",
    "    # Annotations\n",
    "    axes[0, i].axvline(mean, color='red', linestyle='--', label=f'Gemiddelde = {mean:.2f}')\n",
    "    axes[0, i].axvline(median, color='green', linestyle='--', label=f'Mediaan = {median:.2f}')\n",
    "    axes[0, i].legend()\n",
    "\n",
    "    # Boxplot\n",
    "    sns.boxplot(x=subset, ax=axes[1, i])\n",
    "    axes[1, i].set_title(f'Boxplot - {cat}')\n",
    "    axes[1, i].set_xlabel('Sentimentscore')\n",
    "    axes[1, i].set_yticks([])\n",
    "\n",
    "# Render plots\n",
    "plt.tight_layout()\n",
    "plt.show()"
   ],
   "id": "e023a989e0048e0",
   "outputs": [],
   "execution_count": null
  },
  {
   "metadata": {},
   "cell_type": "markdown",
   "source": "### 2.2 Video niveau",
   "id": "1c5b22311b33e760"
  },
  {
   "metadata": {},
   "cell_type": "code",
   "source": [
    "# Get the number of comments per sentiment category per video\n",
    "video_counts = videos['sentiment_category'].value_counts(dropna=False).to_frame(name='Aantal video\\'s')\n",
    "video_counts['Percentage (%)'] = (video_counts['Aantal video\\'s'] / video_counts['Aantal video\\'s'].sum() * 100).round(3)\n",
    "video_counts"
   ],
   "id": "1e966622dc59a10b",
   "outputs": [],
   "execution_count": null
  },
  {
   "metadata": {},
   "cell_type": "code",
   "source": [
    "# Sentiment score statistics per video\n",
    "videos['sentiment_score'].describe().round(3)"
   ],
   "id": "3eb8571e751b493e",
   "outputs": [],
   "execution_count": null
  },
  {
   "metadata": {},
   "cell_type": "code",
   "source": [
    "# Share videos per sentiment category\n",
    "video_counts = videos['sentiment_category'].value_counts()\n",
    "video_percentages = video_counts / video_counts.sum() * 100\n",
    "\n",
    "# Plot pie chart\n",
    "category_colors = ['green', 'red', 'lightblue']\n",
    "plt.figure(figsize=(6, 6))\n",
    "wedges, texts, autotexts = plt.pie(\n",
    "    video_percentages,\n",
    "    autopct='%.1f%%',\n",
    "    startangle=90,\n",
    "    colors=category_colors\n",
    ")\n",
    "plt.legend(wedges, video_percentages.index, title='Sentimentcategorie', loc='center left', bbox_to_anchor=(1, 0.5))\n",
    "plt.title('Verdeling van video\\'s per sentimentcategorie')\n",
    "plt.tight_layout()\n",
    "plt.show()"
   ],
   "id": "92b00e5a87c60958",
   "outputs": [],
   "execution_count": null
  },
  {
   "metadata": {},
   "cell_type": "code",
   "source": [
    "# Create side-by-side plots for average sentiment per video\n",
    "fig, axes = plt.subplots(1, 2, figsize=(12, 5))\n",
    "\n",
    "# Histogram\n",
    "sns.histplot(videos['sentiment_score'].dropna(), kde=True, ax=axes[0])\n",
    "axes[0].set_title('Distributie van gemiddelde sentimentscore (per video)')\n",
    "axes[0].set_xlabel('Gemiddelde sentimentscore')\n",
    "axes[0].set_ylabel('Frequentie')\n",
    "\n",
    "# Boxplot\n",
    "sns.boxplot(x=videos['sentiment_score'].dropna(), ax=axes[1])\n",
    "axes[1].set_title('Boxplot van gemiddelde sentimentscore (per video)')\n",
    "axes[1].set_xlabel('Gemiddelde sentimentscore')\n",
    "\n",
    "plt.tight_layout()\n",
    "plt.show()"
   ],
   "id": "b39e588e8ef2dece",
   "outputs": [],
   "execution_count": null
  },
  {
   "metadata": {},
   "cell_type": "code",
   "source": [
    "# Define sentiment categories to compare\n",
    "categories = ['positief', 'neutraal', 'negatief']\n",
    "n_cat = len(categories)\n",
    "\n",
    "# Create a 2-row layout: histogram on top, boxplot below\n",
    "fig, axes = plt.subplots(2, n_cat, figsize=(5 * n_cat, 8))\n",
    "\n",
    "# Loop over each category to create individual plots\n",
    "for i, cat in enumerate(categories):\n",
    "    subset = comments[comments['sentiment_category'] == cat]['sentiment'].dropna()\n",
    "\n",
    "    # Calculate statistics\n",
    "    mean = subset.mean()\n",
    "    median = subset.median()\n",
    "    std = subset.std()\n",
    "\n",
    "    # Plot histogram with KDE\n",
    "    sns.histplot(subset, kde=True, ax=axes[0, i])\n",
    "    axes[0, i].set_title(f'Distributie - {cat}')\n",
    "    axes[0, i].set_xlabel('Sentimentscore')\n",
    "    axes[0, i].set_ylabel('Frequentie')\n",
    "\n",
    "    # Add lines for mean and median\n",
    "    axes[0, i].axvline(mean, color='red', linestyle='--', label=f'Gemiddelde = {mean:.2f}')\n",
    "    axes[0, i].axvline(median, color='green', linestyle='--', label=f'Mediaan = {median:.2f}')\n",
    "    axes[0, i].legend()\n",
    "\n",
    "    # Plot boxplot\n",
    "    sns.boxplot(x=subset, ax=axes[1, i])\n",
    "    axes[1, i].set_title(f'Boxplot - {cat}')\n",
    "    axes[1, i].set_xlabel('Sentimentscore')\n",
    "    axes[1, i].set_yticks([])\n",
    "\n",
    "# Final layout adjustments\n",
    "plt.tight_layout()\n",
    "plt.show()"
   ],
   "id": "9decb8a758a9431e",
   "outputs": [],
   "execution_count": null
  },
  {
   "metadata": {},
   "cell_type": "code",
   "source": [
    "# Visualize distribution of views per sentiment category\n",
    "sns.boxplot(data=videos, x='sentiment_category', y='views')\n",
    "plt.title('Boxplot van views per sentimentcategorie')\n",
    "plt.xlabel('Sentimentcategorie')\n",
    "plt.ylabel('Aantal views')\n",
    "plt.gca().yaxis.set_major_formatter(mtick.FuncFormatter(lambda x, _: f'{int(x):,}'))\n",
    "plt.tight_layout()\n",
    "plt.show()"
   ],
   "id": "67d476dd1e61ca6b",
   "outputs": [],
   "execution_count": null
  },
  {
   "metadata": {},
   "cell_type": "markdown",
   "source": "## STAP 3: Normaliteitstoets",
   "id": "892aba5765edc69"
  },
  {
   "metadata": {},
   "cell_type": "code",
   "source": [
    "# Normality test with Shapiro-Wilk test\n",
    "\n",
    "# Views\n",
    "shapiro_views = stats.shapiro(videos['views'])\n",
    "print(\"Shapiro-Wilk test voor views:\")\n",
    "print(f\"  W-statistic: {shapiro_views.statistic:.4f}\")\n",
    "print(f\"  p-value: {shapiro_views.pvalue:.4e}\")\n",
    "skew_views = videos['views'].skew()\n",
    "print(f\"Skewness van views: {skew_views:.4f}\")\n",
    "\n",
    "# Sentiment score\n",
    "shapiro_sentiment = stats.shapiro(videos['sentiment_score'].dropna())\n",
    "print(\"Shapiro-Wilk test voor gemiddelde sentimentscore:\")\n",
    "print(f\"  W-statistic: {shapiro_sentiment.statistic:.4f}\")\n",
    "print(f\"  p-value: {shapiro_sentiment.pvalue:.4e}\")\n",
    "skew_sentiment = videos['sentiment_score'].dropna().skew()\n",
    "print(f\"Skewness van gemiddelde sentimentscore: {skew_sentiment:.4f}\")"
   ],
   "id": "d95830c948dba549",
   "outputs": [],
   "execution_count": null
  },
  {
   "metadata": {},
   "cell_type": "markdown",
   "source": [
    "### Resultaten en interpretatie normaliteitstoets\n",
    "\n",
    "De Shapiro-Wilk test en skewnessanalyse leverden de volgende resultaten op:\n",
    "\n",
    "- **Aantal views per video**\n",
    "  - W-statistic: 0.3260\n",
    "  - p-waarde: 2.1602e-37\n",
    "  - Skewness: 8.0701\n",
    "\n",
    "- **Gemiddelde sentimentscore per video**\n",
    "  - W-statistic: 0.9657\n",
    "  - p-waarde: 1.0692e-08\n",
    "  - Skewness: -0.3477\n",
    "\n",
    "**Interpretatie**\n",
    "\n",
    "De verdeling van het aantal views per video **wijkt sterk af van normaliteit**. Dit blijkt uit een extreem lage p-waarde (p < 0.001) en een hoge positieve skewness (> 8), wat wijst op een uitgesproken rechts-scheve verdeling. Een log-transformatie van deze variabele is daarom aangewezen alvorens verder te gaan met correlatie- of regressieanalyse `(Field, 2018)`.\n",
    "\n",
    "De verdeling van de gemiddelde sentimentscore per video is eveneens significant verschillend van normaal (p < 0.001), hoewel de skewnesswaarde van -0.35 binnen een aanvaardbare marge ligt (|skew| < 1). De afwijking is dus mild en suggereert een redelijk symmetrische verdeling. Visuele controle via histogram en boxplot blijft aanbevolen om deze statistische indicatie te bevestigen.\n",
    "\n",
    "Op basis van deze resultaten wordt aanbevolen om in verdere analyses zowel **Pearson** (voor lineaire relaties) als **Spearman** (voor monotone relaties) te rapporteren."
   ],
   "id": "6f05614168f8f827"
  },
  {
   "metadata": {},
   "cell_type": "code",
   "source": [
    "# Log-transformation\n",
    "videos['views_log'] = np.log1p(videos['views'])\n",
    "videos['sentiment_score_log'] = np.log1p(videos['sentiment_score'])\n",
    "\n",
    "# Redo Shapiro-Wilk test with log-transformed data\n",
    "shapiro_views_log = stats.shapiro(videos['views_log'])\n",
    "shapiro_sentiment_score_log = stats.shapiro(videos['sentiment_score_log'])\n",
    "\n",
    "# Views log\n",
    "print(f'\\nShapiro-Wilk test log-views:')\n",
    "print(f'  W-statistic: {shapiro_views_log.statistic:.4f}')\n",
    "print(f'  p-value: {shapiro_views_log.pvalue:.4e}')\n",
    "print(f'Skewness log-views: {videos[\"views_log\"].skew():.4f}')\n",
    "\n",
    "# Sentiment score log\n",
    "print(f'\\nShapiro-Wilk test log-sentiment-score:')\n",
    "print(f'  W-statistic: {shapiro_sentiment_score_log.statistic:.4f}')\n",
    "print(f'  p-value: {shapiro_sentiment_score_log.pvalue:.4e}')\n",
    "print(f'Skewness sentiment_score_log: {videos[\"sentiment_score_log\"].skew():.4f}')"
   ],
   "id": "5ac83ec51ac475b",
   "outputs": [],
   "execution_count": null
  },
  {
   "metadata": {},
   "cell_type": "code",
   "source": [
    "# Create side-by-side plots for log-transformed views and sentiment score\n",
    "fig, axes = plt.subplots(2, 2, figsize=(12, 10))\n",
    "\n",
    "# Histogram log-views\n",
    "sns.histplot(videos['views_log'].dropna(), kde=True, ax=axes[0, 0])\n",
    "axes[0, 0].set_title('Distributie van log-getransformeerde views')\n",
    "axes[0, 0].set_xlabel('Log(views)')\n",
    "axes[0, 0].set_ylabel('Frequentie')\n",
    "\n",
    "# Histogram log-sentiment\n",
    "sns.histplot(videos['sentiment_score_log'].dropna(), kde=True, ax=axes[0, 1])\n",
    "axes[0, 1].set_title('Distributie van log-getransformeerde sentimentscore')\n",
    "axes[0, 1].set_xlabel('Log(sentimentscore)')\n",
    "axes[0, 1].set_ylabel('Frequentie')\n",
    "\n",
    "# Boxplot log-views\n",
    "sns.boxplot(x=videos['views_log'].dropna(), ax=axes[1, 0])\n",
    "axes[1, 0].set_title('Boxplot van log-getransformeerde views')\n",
    "axes[1, 0].set_xlabel('Log(views)')\n",
    "axes[1, 0].set_yticks([])\n",
    "\n",
    "# Boxplot log-sentiment\n",
    "sns.boxplot(x=videos['sentiment_score_log'].dropna(), ax=axes[1, 1])\n",
    "axes[1, 1].set_title('Boxplot van log-getransformeerde sentimentscore')\n",
    "axes[1, 1].set_xlabel('Log(sentimentscore)')\n",
    "axes[1, 1].set_yticks([])\n",
    "\n",
    "plt.tight_layout()\n",
    "plt.show()"
   ],
   "id": "1cd673c18b6b76c8",
   "outputs": [],
   "execution_count": null
  },
  {
   "metadata": {},
   "cell_type": "markdown",
   "source": [
    "### Resultaten en interpretatie log-transformatie\n",
    "\n",
    "Na het toepassen van een log-transformatie op de variabelen `views` en `sentiment_score` werd de normaliteit opnieuw geëvalueerd met behulp van de Shapiro-Wilk test en de skewness:\n",
    "\n",
    "- **Log-views**\n",
    "  - W-statistic: 0.9881\n",
    "  - p-waarde: 1.0422e-03\n",
    "  - Skewness: 0.4051\n",
    "\n",
    "- **Log-sentiment-score**\n",
    "  - W-statistic: 0.6295\n",
    "  - p-waarde: 7.0732e-30\n",
    "  - Skewness: -6.1065\n",
    "\n",
    "**Interpretatie**\n",
    "\n",
    "De log-transformatie van `views` heeft de verdeling duidelijk verbeterd. De skewness is teruggebracht tot een aanvaardbaar niveau (|skew| < 1), wat wijst op een redelijk symmetrische verdeling. Ondanks de nog steeds significante p-waarde (p < 0.05), suggereert de skewnesswaarde dat deze variabele nu voldoende benaderd wordt door een normale verdeling. Verdere analyses kunnen dus met `views_log` worden uitgevoerd, inclusief Pearson-correlatie of lineaire regressie.\n",
    "\n",
    "De log-transformatie van `sentiment_score` daarentegen is **niet succesvol gebleken**. De skewness blijft extreem negatief, en de W-statistic en p-waarde wijzen op een ernstige afwijking van normaliteit. Deze verdeling wordt dus niet genormaliseerd door een log-transformatie. Daarom is het **niet aangewezen om met `sentiment_score_log` verder te werken**. In plaats daarvan wordt geadviseerd om de oorspronkelijke (`niet-getransformeerde`) score te behouden en gebruik te maken van niet-parametrische methoden zoals de **Spearman-correlatie** of Kruskal-Wallis-toets."
   ],
   "id": "5bad13374f99b65b"
  },
  {
   "metadata": {},
   "cell_type": "markdown",
   "source": "## STAP 4: Correlatie-analyse",
   "id": "82fb8f6d106a43e2"
  },
  {
   "metadata": {},
   "cell_type": "code",
   "source": [
    "# Spearman correlation\n",
    "spearman_corr, spearman_p = stats.spearmanr(videos['sentiment_score'], videos['views_log'])\n",
    "print(f\"Spearman-correlatie:\\n  ρ = {spearman_corr:.4f}, p = {spearman_p:.4e}\")\n",
    "\n",
    "# Pearson-correlation\n",
    "pearson_corr, pearson_p = stats.pearsonr(videos['sentiment_score'], videos['views_log'])\n",
    "print(f\"Pearson-correlatie:\\n  r = {pearson_corr:.4f}, p = {pearson_p:.4e}\")"
   ],
   "id": "e7d8f63ff7602053",
   "outputs": [],
   "execution_count": null
  },
  {
   "metadata": {},
   "cell_type": "code",
   "source": [
    "# Scatterplot\n",
    "plt.figure(figsize=(8, 6))\n",
    "sns.regplot(x='sentiment_score', y='views_log', data=videos, scatter_kws={'alpha': 0.5}, line_kws={'color': 'red'})\n",
    "plt.title('Relatie tussen sentimentscore en log(views)')\n",
    "plt.xlabel('Gemiddelde sentimentscore (per video)')\n",
    "plt.ylabel('Log(aantal views)')\n",
    "plt.tight_layout()\n",
    "plt.show()"
   ],
   "id": "3736f46c792f656b",
   "outputs": [],
   "execution_count": null
  },
  {
   "metadata": {},
   "cell_type": "markdown",
   "source": [
    "### Resultaten en interpretatie correlatieanalyse\n",
    "\n",
    "**Spearman-correlatie:**\n",
    "- Coëfficiënt: -0.0102\n",
    "- Betekenis: Er is **geen monotone relatie** tussen de gemiddelde sentimentscore van comments en het (log-getransformeerde) aantal views. De correlatiecoëfficiënt ligt dicht bij nul en is niet statistisch significant (*p* = 0.8304).\n",
    "\n",
    "**Pearson-correlatie:**\n",
    "- Coëfficiënt: 0.0090\n",
    "- Betekenis: Ook de lineaire samenhang tussen sentiment en views is verwaarloosbaar en niet significant (*p* = 0.8489). Deze bevinding bevestigt dat video's met meer positief sentiment in de comments **niet noodzakelijk meer views genereren**.\n",
    "\n",
    "**Interpretatie**\n",
    "\n",
    "Beide correlatiecoëfficiënten wijzen in dezelfde richting: er is **geen statistisch significante relatie** tussen het sentiment van comments en het aantal views van een video. De Spearman-coëfficiënt toont aan dat ook een monotone samenhang ontbreekt, wat betekent dat video’s met meer positief (of negatief) sentiment in de comments niet systematisch hogere (of lagere) kijkcijfers vertonen.\n",
    "\n",
    "Het scatterplot met regressielijn bevestigt deze observatie visueel. De puntenwolk vertoont geen duidelijke trend, en de regressielijn is nagenoeg horizontaal. De spreiding is groot en er zijn geen aanwijzingen voor structurele verbanden.\n",
    "\n",
    "Deze bevindingen spreken de oorspronkelijke hypothese tegen, waarin werd verondersteld dat een positief comment-sentiment bijdraagt aan het vergroten van het bereik. Een mogelijke verklaring is dat sentimentscores van comments te ver verwijderd staan van de factoren die kijkers aantrekken, zoals inhoud, thumbnail, onderwerp of distributiemoment. Alternatief kan het sentiment eerder een reflectie zijn van het publiek *na* het bekijken van de video, en dus niet causaal bijdragen aan de verspreiding ervan."
   ],
   "id": "2158b9aa0cb9b8de"
  },
  {
   "metadata": {},
   "cell_type": "markdown",
   "source": "## STAP 5: Categorie-analyse",
   "id": "b04233167d1ca5c9"
  },
  {
   "metadata": {},
   "cell_type": "code",
   "source": [
    "# Compare distribution of views per sentiment category\n",
    "# (Boxplots were already created above)\n",
    "\n",
    "# Check normality of views per group\n",
    "for cat in categories:\n",
    "    subset = videos[videos['sentiment_category'] == cat]['views']\n",
    "    stat, p = stats.shapiro(subset)\n",
    "    print(f'Shapiro-Wilk test voor {cat} - W = {stat:.4f}, p = {p:.4f}')\n",
    "\n",
    "# Since normality is violated, we use Kruskal-Wallis test\n",
    "kruskal_result = stats.kruskal(\n",
    "    *[videos[videos['sentiment_category'] == cat]['views'] for cat in categories]\n",
    ")\n",
    "print(\"\\nKruskal-Wallis testresultaat:\")\n",
    "print(f\"  H-statistic: {kruskal_result.statistic:.4f}\")\n",
    "print(f\"  p-value: {kruskal_result.pvalue:.4e}\")"
   ],
   "id": "b0c2fbe223f13c62",
   "outputs": [],
   "execution_count": null
  },
  {
   "metadata": {},
   "cell_type": "markdown",
   "source": [
    "### Resultaten en interpretatie categorie-analyse\n",
    "\n",
    "Om te onderzoeken of het aantal views verschilt tussen video's met een positief, neutraal of negatief gemiddeld commentsentiment, werd een Kruskal-Wallis-toets uitgevoerd. Aangezien de normaliteit van het aantal views binnen alle drie de sentimentcategorieën werd verworpen (Shapiro-Wilk p < 0.001), werd deze niet-parametrische toets als geschikt beschouwd.\n",
    "\n",
    "**Kruskal-Wallis testresultaten:**\n",
    "- H-statistic: 15.9776\n",
    "- p-waarde: 0.0003\n",
    "\n",
    "Deze resultaten wijzen op een **statistisch significant verschil** in het aantal views tussen minstens twee sentimentcategorieën (*p* < 0.001). Hoewel de correlatieanalyse eerder geen significante samenhang vond tussen sentimentscore en views (zie stap 4), suggereert deze analyse dat het gemiddelde bereik van video's **wel verschilt** op basis van het *type sentiment* in de comments.\n",
    "\n",
    "Om te bepalen **welke groepen significant van elkaar verschillen**, werd een post-hocanalyse met de Dunn’s test en Bonferroni-correctie uitgevoerd (zie stap 6).\n",
    "\n",
    "**Interpretatie**\n",
    "\n",
    "De significantie van de Kruskal-Wallis test bevestigt dat sentimentscore in categorische vorm — positief, neutraal, negatief — **wél informatief** is voor het verklaren van verschillen in bereik. Dit contrasteert met de afwezigheid van correlatie bij de continue variabele, wat doet vermoeden dat het effect van sentiment op bereik eerder **drempelgebaseerd of niet-lineair** is. Positief sentiment zou bijvoorbeeld pas effect sorteren wanneer het duidelijk overheerst, terwijl kleine schommelingen in sentiment onvoldoende impact hebben.\n",
    "\n",
    "Deze bevindingen nuanceren de initiële hypothese (H3): hoewel er geen geleidelijke stijging is van views bij oplopend sentiment, lijken video’s met overwegend positief commentaar wél significant meer views te genereren dan andere categorieën. De post-hocanalyse verduidelijkt dit verder."
   ],
   "id": "fd4863c41818d79f"
  },
  {
   "metadata": {},
   "cell_type": "markdown",
   "source": "## STAP 6: Post-hoc analyse",
   "id": "c83bdd81d947ffff"
  },
  {
   "metadata": {},
   "cell_type": "code",
   "source": [
    "# Dunn's test with Bonferroni correction\n",
    "dunn_result = sp.posthoc_dunn(\n",
    "    videos,\n",
    "    val_col='views',\n",
    "    group_col='sentiment_category',\n",
    "    p_adjust='bonferroni'\n",
    ")\n",
    "\n",
    "# Show Dunn's test result\n",
    "print(\"Dunn's test met Bonferroni-correctie:\")\n",
    "print(dunn_result)"
   ],
   "id": "fc47e82c66b7325f",
   "outputs": [],
   "execution_count": null
  },
  {
   "metadata": {},
   "cell_type": "markdown",
   "source": [
    "### Resultaten en interpretatie post-hocanalyse\n",
    "\n",
    "Om te bepalen tussen welke sentimentcategorieën het aantal views significant verschilt, werd een post-hocanalyse uitgevoerd met behulp van de **Dunn’s test**, inclusief **Bonferroni-correctie** voor multiple testing. Dit volgde op een significante Kruskal-Wallis toets (H = 15.98, *p* < 0.001).\n",
    "\n",
    "De resultaten zijn als volgt:\n",
    "\n",
    "| Vergelijking              | p-waarde (Bonferroni) |\n",
    "|--------------------------|-----------------------|\n",
    "| Positief vs Negatief     | 0.0004 ✅             |\n",
    "| Positief vs Neutraal     | 0.2800 ❌             |\n",
    "| Neutraal vs Negatief     | 0.2029 ❌             |\n",
    "\n",
    "**Interpretatie**\n",
    "\n",
    "De post-hocanalyse toont aan dat het **aantal views significant hoger ligt bij video's met overwegend positief sentiment** in vergelijking met video's met overwegend negatief sentiment (*p* = 0.0004). Er werd echter **geen significant verschil gevonden** tussen video’s met positief versus neutraal sentiment (*p* = 0.2800), noch tussen neutraal en negatief (*p* = 0.2029).\n",
    "\n",
    "Deze bevindingen suggereren dat **extreem negatief sentiment in de comments geassocieerd is met een lager gemiddeld bereik**, terwijl neutraal en positief sentiment geen duidelijk onderscheid vertonen. Dit wijst mogelijk op een drempeleffect waarbij enkel uitgesproken negatief commentaar een negatieve invloed uitoefent op het kijkgedrag of de zichtbaarheid van de video.\n",
    "\n",
    "De resultaten bieden gedeeltelijke ondersteuning voor hypothese 3: **een positief sentiment leidt niet per se tot meer views dan neutraal sentiment**, maar er is **wel een duidelijk verschil ten opzichte van negatief sentiment**. In praktijk betekent dit dat het vermijden van negatief sentiment in de commentaren mogelijk belangrijker is dan het genereren van uitgesproken positief sentiment."
   ],
   "id": "61d346c71c0277e0"
  },
  {
   "metadata": {},
   "cell_type": "code",
   "source": "",
   "id": "47657d2f6def04a6",
   "outputs": [],
   "execution_count": null
  }
 ],
 "metadata": {
  "kernelspec": {
   "display_name": "Python 3",
   "language": "python",
   "name": "python3"
  },
  "language_info": {
   "codemirror_mode": {
    "name": "ipython",
    "version": 2
   },
   "file_extension": ".py",
   "mimetype": "text/x-python",
   "name": "python",
   "nbconvert_exporter": "python",
   "pygments_lexer": "ipython2",
   "version": "2.7.6"
  }
 },
 "nbformat": 4,
 "nbformat_minor": 5
}
