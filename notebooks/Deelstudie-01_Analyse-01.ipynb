{
 "cells": [
  {
   "metadata": {},
   "cell_type": "markdown",
   "source": [
    "# Deelstudie 1: Retrospectieve analyse van historische YouTube-data - Relatie tussen het aantal comments en het aantal views\n",
    "\n",
    "**Hypothese:** Video’s met een hoger aantal comments vertonen een significant hoger aantal views\n",
    "\n",
    "**Manier van werken:**\n",
    "- Beschrijvende statistiek\n",
    "- Normaliteitstoets\n",
    "- Correlatieanalyse\n",
    "- Lineaire regressieanalyse\n",
    "- Multivariate regressieanalyse"
   ],
   "id": "d6ef766331b536e8"
  },
  {
   "metadata": {},
   "cell_type": "code",
   "source": [
    "# Import libraries\n",
    "import math\n",
    "import numpy as np\n",
    "import pandas as pd\n",
    "import seaborn as sns\n",
    "from scipy import stats\n",
    "import statsmodels.api as sm\n",
    "import matplotlib.pyplot as plt\n",
    "import matplotlib.ticker as mtick\n",
    "from statsmodels.stats.outliers_influence import variance_inflation_factor"
   ],
   "id": "91025880547b1bd9",
   "outputs": [],
   "execution_count": null
  },
  {
   "metadata": {},
   "cell_type": "code",
   "source": [
    "# General settings\n",
    "sns.set_theme(palette='muted')"
   ],
   "id": "94a5f524b7779866",
   "outputs": [],
   "execution_count": null
  },
  {
   "metadata": {},
   "cell_type": "code",
   "source": [
    "# Import data\n",
    "videos = pd.read_excel('../data/videos.xlsx', index_col=0)\n",
    "videos"
   ],
   "id": "53128c20dd7a747d",
   "outputs": [],
   "execution_count": null
  },
  {
   "metadata": {},
   "cell_type": "code",
   "source": [
    "# Get info about the data\n",
    "print(videos.shape) # rows, columns\n",
    "print(videos.dtypes) # column names and data type"
   ],
   "id": "4cb5e03d71897682",
   "outputs": [],
   "execution_count": null
  },
  {
   "metadata": {},
   "cell_type": "markdown",
   "source": "## STAP 1: Beschrijvende statistiek",
   "id": "1026c59bd951bd31"
  },
  {
   "metadata": {},
   "cell_type": "markdown",
   "source": "### 1.1 Verkenning van de data",
   "id": "3f2af347d312247a"
  },
  {
   "metadata": {},
   "cell_type": "code",
   "source": [
    "# Set engagement metrics\n",
    "engagement_metrics = ['comments', 'views', 'shares', 'likes', 'dislikes', 'engagement']"
   ],
   "id": "e6c605d229c4d11a",
   "outputs": [],
   "execution_count": null
  },
  {
   "metadata": {},
   "cell_type": "code",
   "source": [
    "# describe the engagement metrics\n",
    "videos[engagement_metrics].describe().T"
   ],
   "id": "2287963320edbb04",
   "outputs": [],
   "execution_count": null
  },
  {
   "metadata": {},
   "cell_type": "code",
   "source": [
    "# Visualize engagement metrics distribution\n",
    "\n",
    "# Determine number of rows and columns for subplots\n",
    "n_metrics = len(engagement_metrics)\n",
    "n_cols = 2\n",
    "n_rows = math.ceil(n_metrics / n_cols)\n",
    "\n",
    "# Create plots and subplots\n",
    "fig, axes = plt.subplots(n_rows, n_cols, figsize=(12, 4 * n_rows))\n",
    "for i, metric in enumerate(engagement_metrics):\n",
    "    row, col = divmod(i, n_cols)\n",
    "    sns.histplot(videos[metric], kde=True, ax=axes[row, col])\n",
    "    axes[row, col].set_title(f'Distributie van {metric}')\n",
    "    axes[row, col].set_ylabel('Frequentie')\n",
    "    axes[row, col].set_xlabel(metric.capitalize())\n",
    "    axes[row, col].xaxis.set_major_formatter(mtick.FuncFormatter(lambda x, _: f'{int(x):,}'))\n",
    "# Disable empty subplots if any\n",
    "if n_metrics % n_cols != 0:\n",
    "    axes[-1, -1].axis('off')\n",
    "# Render plots\n",
    "plt.tight_layout()\n",
    "plt.show()"
   ],
   "id": "209a2a56951b6363",
   "outputs": [],
   "execution_count": null
  },
  {
   "metadata": {},
   "cell_type": "code",
   "source": [
    "# Visualize engagement metrics boxplots\n",
    "\n",
    "\n",
    "# Determine number of rows and columns for subplots\n",
    "n_metrics = len(engagement_metrics)\n",
    "n_cols = 2\n",
    "n_rows = math.ceil(n_metrics / n_cols)\n",
    "\n",
    "# Create plots and subplots\n",
    "fig, axes = plt.subplots(n_rows, n_cols, figsize=(12, 4 * n_rows))\n",
    "for i, metric in enumerate(engagement_metrics):\n",
    "    row, col = divmod(i, n_cols)\n",
    "    sns.boxplot(x=videos[metric], ax=axes[row, col])\n",
    "    axes[row, col].set_title(f'Boxplot van {metric}')\n",
    "    axes[row, col].set_xlabel(metric.capitalize())\n",
    "    axes[row, col].xaxis.set_major_formatter(mtick.FuncFormatter(lambda x, _: f'{int(x):,}'))\n",
    "# Disable empty subplots if any\n",
    "if n_metrics % n_cols != 0:\n",
    "    axes[-1, -1].axis('off')\n",
    "# Render plots\n",
    "plt.tight_layout()\n",
    "plt.show()"
   ],
   "id": "7c679492039c0d5d",
   "outputs": [],
   "execution_count": null
  },
  {
   "metadata": {},
   "cell_type": "markdown",
   "source": "## STAP 2: Normaliteitstoets",
   "id": "d69fee0d9eff7b92"
  },
  {
   "metadata": {},
   "cell_type": "code",
   "source": [
    "# Normality test with Shapiro-Wilk test\n",
    "shapiro_comments = stats.shapiro(videos['comments'])\n",
    "shapiro_views = stats.shapiro(videos['views'])\n",
    "\n",
    "# Comments\n",
    "print(f'Shapiro-Wilk test aantal comments:')\n",
    "print(f'  W-statistic: {shapiro_comments.statistic:.4f}')\n",
    "print(f'  p-value: {shapiro_comments.pvalue:.4e}')\n",
    "print(f'Skewness comments: {videos[\"comments\"].skew():.4f}')\n",
    "\n",
    "# Views\n",
    "print(f'\\nShapiro-Wilk test aantal views:')\n",
    "print(f'  W-statistic: {shapiro_views.statistic:.4f}')\n",
    "print(f'  p-value: {shapiro_views.pvalue:.4e}')\n",
    "print(f'Skewness views: {videos[\"views\"].skew():.4f}')"
   ],
   "id": "39a7e526b8f27b01",
   "outputs": [],
   "execution_count": null
  },
  {
   "metadata": {},
   "cell_type": "markdown",
   "source": [
    "### Resultaten en interpretatie normaliteitstoets\n",
    "\n",
    "De Shapiro-Wilk test toonde het volgende resultaat:\n",
    "\n",
    "- **Comments:**\n",
    "    - W-statistic: 0.3718\n",
    "    - p-value: 4.4922e-38\n",
    "    - Skewness: 6.6380\n",
    "\n",
    "- **Views:**\n",
    "    - W-statistic: 0.3184\n",
    "    - p-value: 3.5041e-39\n",
    "    - Skewness: 8.4351\n",
    "\n",
    "**Interpretatie**\n",
    "\n",
    "Voor beide variabelen (`comments` en `views`) is de p-waarde < 0.05, wat betekent dat de nulhypothese van normaliteit wordt verworpen. Bovendien tonen de skewness-waarden een sterke rechtsscheefheid (>6), wat wijst op een ernstige afwijking van normaliteit. Dit bevestigt de noodzaak om een log-transformatie toe te passen alvorens correlatie- en regressieanalyses uit te voeren, conform de richtlijnen van `Field (2018)`."
   ],
   "id": "7a9b215dee18ca8f"
  },
  {
   "metadata": {},
   "cell_type": "code",
   "source": [
    "# Log-transformation\n",
    "videos['comments_log'] = np.log1p(videos['comments'])\n",
    "videos['views_log'] = np.log1p(videos['views'])\n",
    "\n",
    "# Redo Shapiro-Wilk test with log-transformed data\n",
    "shapiro_comments_log = stats.shapiro(videos['comments_log'])\n",
    "shapiro_views_log = stats.shapiro(videos['views_log'])\n",
    "\n",
    "# Comments log\n",
    "print(f'Shapiro-Wilk test log-comments:')\n",
    "print(f'  W-statistic: {shapiro_comments_log.statistic:.4f}')\n",
    "print(f'  p-value: {shapiro_comments_log.pvalue:.4e}')\n",
    "print(f'Skewness log-comments: {videos[\"comments_log\"].skew():.4f}')\n",
    "\n",
    "# Views log\n",
    "print(f'\\nShapiro-Wilk test log-views:')\n",
    "print(f'  W-statistic: {shapiro_views_log.statistic:.4f}')\n",
    "print(f'  p-value: {shapiro_views_log.pvalue:.4e}')\n",
    "print(f'Skewness log-views: {videos[\"views_log\"].skew():.4f}')"
   ],
   "id": "5b5f39ed003f589a",
   "outputs": [],
   "execution_count": null
  },
  {
   "metadata": {},
   "cell_type": "code",
   "source": [
    "# Visualize log-transformed data\n",
    "\n",
    "# Prepare plots\n",
    "fig, axes = plt.subplots(2, 2, figsize=(12, 10))\n",
    "\n",
    "# --- Distribution plots on top ---\n",
    "# Log-comments\n",
    "sns.histplot(videos['comments_log'], kde=True, ax=axes[0, 0])\n",
    "axes[0, 0].set_title('Distributie log-getransformeerde comments')\n",
    "axes[0, 0].set_xlabel('Log(Comments)')\n",
    "axes[0, 0].set_ylabel('Frequentie')\n",
    "\n",
    "# Log-views\n",
    "sns.histplot(videos['views_log'], kde=True, ax=axes[0, 1])\n",
    "axes[0, 1].set_title('Distributie log-getransformeerde Views')\n",
    "axes[0, 1].set_xlabel('Log(Views)')\n",
    "axes[0, 1].set_ylabel('Frequentie')\n",
    "\n",
    "# --- Boxplots at the bottom ---\n",
    "# Log-comments boxplot\n",
    "sns.boxplot(x=videos['comments_log'], ax=axes[1, 0])\n",
    "axes[1, 0].set_title('Boxplot log-getransformeerde comments')\n",
    "axes[1, 0].set_xlabel('Log(Comments)')\n",
    "axes[1, 0].set_ylabel('')\n",
    "\n",
    "# Log-views boxplot\n",
    "sns.boxplot(x=videos['views_log'], ax=axes[1, 1])\n",
    "axes[1, 1].set_title('Boxplot log-getransformeerde views')\n",
    "axes[1, 1].set_xlabel('Log(Views)')\n",
    "axes[1, 1].set_ylabel('')\n",
    "\n",
    "# Render plots\n",
    "plt.tight_layout()\n",
    "plt.show()"
   ],
   "id": "5b8f23f7df6e5b58",
   "outputs": [],
   "execution_count": null
  },
  {
   "metadata": {},
   "cell_type": "markdown",
   "source": [
    "### Resultaten en interpretatie na log-transformatie\n",
    "\n",
    "Na het toepassen van een log-transformatie op de variabelen `comments` en `views` werden opnieuw de Shapiro-Wilk tests en skewness-berekeningen uitgevoerd om de verdelingen te evalueren.\n",
    "\n",
    "**Samenvatting van de resultaten:**\n",
    "\n",
    "- **Log-comments:**\n",
    "    - W-statistic: 0.9720\n",
    "    - p-value: 3.9275e-08\n",
    "    - Skewness: 0.4462\n",
    "\n",
    "- **Log-views:**\n",
    "    - W-statistic: 0.9464\n",
    "    - p-value: 2.1011e-12\n",
    "    - Skewness: -0.8047\n",
    "\n",
    "**Interpretatie**\n",
    "\n",
    "De resultaten tonen aan dat, hoewel de Shapiro-Wilk test nog steeds significant blijft (p < 0.05), de skewness-waarden aanzienlijk zijn verbeterd en zich nu bevinden binnen het interval [-1, +1]. Dit wijst op een acceptabele mate van normaliteit (Field, 2018). Visuele inspectie via histogrammen bevestigt dat de verdelingen van zowel `log-comments` als `log-views` duidelijk symmetrischer en dichter bij een normale verdeling liggen in vergelijking met de oorspronkelijke data. Ook de boxplots tonen een meer evenwichtige spreiding van de data, met minder extreme uitschieters.\n",
    "\n",
    "Op basis van deze bevindingen kan besloten worden dat de log-getransformeerde variabelen voldoende normaal verdeeld zijn om verder te gaan met de Pearson-correlatie en lineaire regressieanalyse. Het blijft echter aangewezen om naast Pearson ook Spearman's rangcorrelatie te rapporteren, aangezien de oorspronkelijke variabelen sterk afweken van normaliteit."
   ],
   "id": "1fc50cfa5adfba61"
  },
  {
   "metadata": {},
   "cell_type": "markdown",
   "source": "## STAP 3: Correlatieanalyse",
   "id": "8db443106a7179a9"
  },
  {
   "metadata": {},
   "cell_type": "code",
   "source": [
    "# Pearson-correlation on log-transformed variables\n",
    "r, p_value = stats.pearsonr(videos['comments_log'], videos['views_log'])\n",
    "print(f'Pearson-correlatie: {r:.4f}')\n",
    "print(f'p-waarde: {p_value:.4e}')\n",
    "\n",
    "# Spearman-correlatie on log-transformed variables\n",
    "r_spearman, p_value_spearman = stats.spearmanr(videos['comments_log'], videos['views_log'])\n",
    "print(f'Spearman-correlatie: {r_spearman:.4f}')\n",
    "print(f'p-waarde: {p_value_spearman:.4e}')"
   ],
   "id": "68ab937d990b89a7",
   "outputs": [],
   "execution_count": null
  },
  {
   "metadata": {},
   "cell_type": "code",
   "source": [
    "# Scatterplot for correlation analysis\n",
    "sns.regplot(\n",
    "    x='comments_log',\n",
    "    y='views_log',\n",
    "    data=videos,\n",
    "    scatter_kws={'alpha': 0.5, 'color': '#4C72B0'},  # Data points\n",
    "    color='#C44E52',  # Trend Line and Confidence Interval\n",
    "    line_kws={'alpha': 1}  # Trend line transparency\n",
    ")\n",
    "plt.title('Scatterplot met regressielijn: Log(Comments) versus Log(Views)')\n",
    "plt.xlabel('Log(Comments)')\n",
    "plt.ylabel('Log(Views)')\n",
    "plt.show()"
   ],
   "id": "76e82649d91c3dbd",
   "outputs": [],
   "execution_count": null
  },
  {
   "metadata": {},
   "cell_type": "markdown",
   "source": [
    "### Resultaten en interpretatie correlatieanalyse\n",
    "\n",
    "**Pearson-correlatie:**\n",
    "- Coëfficiënt: 0.7517\n",
    "- Betekenis: Er is een sterke positieve lineaire samenhang tussen het aantal comments en het aantal views (beide log-getransformeerd). Dit wijst erop dat video's met meer comments gemiddeld ook meer views behalen.\n",
    "\n",
    "**Spearman-correlatie:**\n",
    "- Coëfficiënt: 0.7613\n",
    "- Betekenis: De Spearman-correlatie bevestigt een sterke positieve monotone relatie tussen het aantal comments en views, wat betekent dat een toename van comments gepaard gaat met een toename van views, ongeacht de exacte lineaire vorm.\n",
    "\n",
    "**Interpretatie**\n",
    "\n",
    "Beide correlatiecoëfficiënten wijzen op een sterke positieve relatie tussen het aantal comments en het aantal views, waarmee de hypothese ondersteund wordt. De Pearson-coëfficiënt van 0.75 wijst op een substantiële lineaire samenhang, terwijl de Spearman-coëfficiënt van 0.76 het bestaan van een robuuste monotone relatie bevestigt. Dit impliceert dat video's die meer engagement genereren in de vorm van comments, ook aanzienlijk meer kijkers aantrekken.\n",
    "\n",
    "Het scatterplot met regressielijn bevestigt dit patroon visueel en toont een duidelijke positieve trend. Hoewel er enkele spreiding en outliers zichtbaar zijn, blijft het algemene verband sterk aanwezig. Deze bevindingen zijn in lijn met bestaande literatuur die het belang van engagement benadrukt in het vergroten van bereik op sociale mediaplatformen `(Covington et al., 2016)`."
   ],
   "id": "c5ed09fae51aee0"
  },
  {
   "metadata": {},
   "cell_type": "markdown",
   "source": "## STAP 4: Lineaire regressieanalyse",
   "id": "1aebfec81c7a53bc"
  },
  {
   "metadata": {},
   "cell_type": "code",
   "source": [
    "# Define X and y\n",
    "X = videos[['comments_log']] # Independent variable\n",
    "y = videos['views_log'] # Dependent variable\n",
    "\n",
    "# Add constant to the model\n",
    "X = sm.add_constant(X)\n",
    "\n",
    "# Execute regression\n",
    "model = sm.OLS(y, X).fit()\n",
    "model.summary()"
   ],
   "id": "e3694b14c0d5d0bc",
   "outputs": [],
   "execution_count": null
  },
  {
   "metadata": {},
   "cell_type": "markdown",
   "source": [
    "### Resultaten en interpretatie eenvoudige lineaire regressie\n",
    "\n",
    "De regressieanalyse werd uitgevoerd met `log-comments` als onafhankelijke variabele en `log-views` als afhankelijke variabele.\n",
    "\n",
    "**Samenvatting van de resultaten:**\n",
    "- Coëfficiënt (slope): 0.8048\n",
    "- Intercept: 6.9895\n",
    "- R²: 0.565\n",
    "- p-waarde coëfficiënt: < 0.001\n",
    "\n",
    "**Interpretatie**\n",
    "\n",
    "De regressieanalyse toont aan dat het aantal comments een significante voorspeller is van het aantal views (beide log-getransformeerd). De coëfficiënt van 0.8048 wijst erop dat een stijging van 1 log-eenheid in het aantal comments geassocieerd is met een stijging van ongeveer 0.80 log-eenheden in het aantal views. Het model verklaart 56,5% van de variantie in het aantal views (R² = 0.565), wat duidt op een substantieel effect.\n",
    "\n",
    "De p-waarde (< 0.001) bevestigt dat het effect statistisch significant is. Deze bevinding ondersteunt de hypothese en bevestigt dat engagement via comments een belangrijke rol speelt in het vergroten van het bereik van video's. Dit resultaat is in lijn met bestaande literatuur die het belang van gebruikersinteractie onderstreept in het YouTube-algoritme `(Covington et al., 2016)`.\n",
    "\n",
    "Hoewel het model sterk is, geven de diagnostische tests (zoals de skewness en kurtosis van de residuen) aan dat er nog enige afwijking van perfect normaliteit is. Dit is te verwachten bij grote datasets met socialemediadata en vormt geen ernstig probleem voor de robuustheid van het model `(Field, 2018)`."
   ],
   "id": "95dbe3399b9dc2a3"
  },
  {
   "metadata": {},
   "cell_type": "markdown",
   "source": "## STAP 5: Multivariate regressieanalyse",
   "id": "5df44a3aa00fcfa6"
  },
  {
   "metadata": {},
   "cell_type": "code",
   "source": [
    "# Log-transform engagement metrics that haven't been transformed yet\n",
    "# Skip engagement metric 'engagement' as it is not a raw count but the result of a formula\n",
    "videos['likes_log'] = np.log1p(videos['likes'])\n",
    "videos['dislikes_log'] = np.log1p(videos['dislikes'])\n",
    "videos['shares_log'] = np.log1p(videos['shares'])"
   ],
   "id": "b85a1399cceb4e72",
   "outputs": [],
   "execution_count": null
  },
  {
   "metadata": {},
   "cell_type": "code",
   "source": [
    "# Define dependent variable and independent variables\n",
    "X_multi = videos[['comments_log', 'likes_log', 'shares_log', 'dislikes_log']]\n",
    "y_multi = videos['views_log']\n",
    "\n",
    "# Add constant to the model\n",
    "X_multi = sm.add_constant(X_multi)\n",
    "\n",
    "# Execute regression\n",
    "multi_model = sm.OLS(y_multi, X_multi).fit()\n",
    "multi_model.summary()"
   ],
   "id": "6c1fb4151049d02",
   "outputs": [],
   "execution_count": null
  },
  {
   "metadata": {},
   "cell_type": "code",
   "source": [
    "# VIF-test (check multicollinearity)\n",
    "vif_data = pd.DataFrame()\n",
    "vif_data['Feature'] = X_multi.columns\n",
    "vif_data['VIF'] = [variance_inflation_factor(X_multi.values, i) for i in range(X_multi.shape[1])]\n",
    "vif_data"
   ],
   "id": "afaf259c93d55c7a",
   "outputs": [],
   "execution_count": null
  },
  {
   "metadata": {},
   "cell_type": "markdown",
   "source": [
    "### Resultaten en interpretatie multivariate regressie\n",
    "\n",
    "De multivariate regressie werd uitgevoerd met `log-comments`, `log-likes` en `log-shares` als onafhankelijke variabelen en `log-views` als afhankelijke variabele.\n",
    "\n",
    "**Samenvatting van de resultaten:**\n",
    "- Coëfficiënt (log-comments): 0.0306 (p = 0.200)\n",
    "- Coëfficiënt (log-likes): 0.7023 (p < 0.001)\n",
    "- Coëfficiënt (log-shares): 0.3121 (p < 0.001)\n",
    "- R²: 0.904\n",
    "- VIF-waarden:\n",
    "    - comments_log: 2.55\n",
    "    - likes_log: 4.61\n",
    "    - shares_log: 4.00\n",
    "\n",
    "**Interpretatie**\n",
    "\n",
    "Het model verklaart 90.4% van de variantie in het aantal views, wat wijst op een uitstekende voorspellende kracht. De VIF-waarden tonen aan dat er geen problematische multicollineariteit aanwezig is.\n",
    "\n",
    "De resultaten tonen dat zowel likes als shares sterke en significante voorspellers zijn van het aantal views. De coëfficiënt van `log-likes` (0.7023) wijst erop dat een stijging van 1 log-eenheid in likes geassocieerd is met een stijging van ~0.70 log-eenheden in views, terwijl een stijging in shares (coëfficiënt = 0.3121) eveneens een significante bijdrage levert.\n",
    "\n",
    "Opvallend is dat de invloed van comments op views, die in de eenvoudige regressie nog sterk was, wegvalt zodra gecontroleerd wordt voor likes en shares (p = 0.200). Dit suggereert dat het aanvankelijke effect van comments deels wordt verklaard door hun samenhang met andere engagement metrics.\n",
    "\n",
    "Deze bevinding nuanceert de hypothese: hoewel comments initieel een significante voorspeller lijken, verdwijnt dit effect zodra andere vormen van engagement in rekening worden gebracht. Dit onderstreept het belang van een multivariate aanpak en bevestigt dat likes en shares cruciale determinanten zijn van het bereik van YouTube-video's `(Covington et al., 2016)`."
   ],
   "id": "9614cac8504fb30"
  },
  {
   "metadata": {},
   "cell_type": "markdown",
   "source": "### Residucontrole",
   "id": "63a952d1f79701a6"
  },
  {
   "metadata": {},
   "cell_type": "code",
   "source": [
    "# QQ-plot of the residues (multivariate regressie)\n",
    "fig = sm.qqplot(multi_model.resid, line='45')\n",
    "plt.title('QQ-plot van de residuen (multivariate regressie)')\n",
    "plt.xlabel('Theoretische kwantielen')\n",
    "plt.ylabel('Waargenomen kwantielen')\n",
    "plt.show()"
   ],
   "id": "949c856b28622643",
   "outputs": [],
   "execution_count": null
  },
  {
   "metadata": {},
   "cell_type": "code",
   "source": [
    "sns.residplot(\n",
    "    x=multi_model.fittedvalues,\n",
    "    y=multi_model.resid,\n",
    "    lowess=True,\n",
    "    line_kws={'color': 'red'}\n",
    ")\n",
    "plt.xlabel('Voorspelde waarden')\n",
    "plt.ylabel('Residuen')\n",
    "plt.title('Voorspelde waarden vs. residuen (multivariate regressie)')\n",
    "plt.show()"
   ],
   "id": "f17448409ebb21a4",
   "outputs": [],
   "execution_count": null
  },
  {
   "metadata": {},
   "cell_type": "markdown",
   "source": [
    "### Residucontrole\n",
    "\n",
    "Om de aannames van de lineaire regressie te toetsen, werd een residucontrole uitgevoerd.\n",
    "\n",
    "- **QQ-plot:** De QQ-plot laat zien dat de residuen grotendeels de diagonaal volgen, wat wijst op een redelijk normale verdeling van de residuen. Er zijn lichte afwijkingen zichtbaar aan de uiteinden (staarten), wat verwacht kan worden bij socialemediadata en geen ernstige bedreiging vormt voor de validiteit van het model (Field, 2018).\n",
    "\n",
    "- **Voorspelde waarden vs. residuen:** De plot toont geen duidelijke systematische patronen, wat suggereert dat de homoscedasticiteitsaanname (gelijke spreiding van residuen) voldoende is voldaan. De residuen zijn willekeurig verspreid rond de nul-lijn, wat bevestigt dat het model geen grote structurele fouten bevat.\n",
    "\n",
    "Op basis van deze controle kan geconcludeerd worden dat het regressiemodel robuust genoeg is en dat de belangrijkste aannames in voldoende mate zijn vervuld om betrouwbare inferenties te maken."
   ],
   "id": "849dceac264c0e82"
  }
 ],
 "metadata": {
  "kernelspec": {
   "display_name": "Python 3",
   "language": "python",
   "name": "python3"
  },
  "language_info": {
   "codemirror_mode": {
    "name": "ipython",
    "version": 2
   },
   "file_extension": ".py",
   "mimetype": "text/x-python",
   "name": "python",
   "nbconvert_exporter": "python",
   "pygments_lexer": "ipython2",
   "version": "2.7.6"
  }
 },
 "nbformat": 4,
 "nbformat_minor": 5
}
