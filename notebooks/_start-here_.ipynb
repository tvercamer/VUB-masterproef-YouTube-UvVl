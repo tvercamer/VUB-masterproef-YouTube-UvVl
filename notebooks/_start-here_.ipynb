{
 "cells": [
  {
   "metadata": {},
   "cell_type": "markdown",
   "source": [
    "# READ ME\n",
    "\n",
    "Lees deze notebook eerst voor je dit project uit probeert! Het bevat niet alleen de nodige uitleg over hoe dit project werkt, maar ook de code die nodig is om de correcte data op te halen en te verwerken.\n",
    "\n",
    "**Voor je dit project kan starten, moet je eerst beschikken over volgende tools:**\n",
    "- Python 3.8 of hoger\n",
    "- Jupyter Notebook\n",
    "- pip (Python package manager) OF Anaconda (aangeraden)\n",
    "- Git (optioneel, maar aangeraden)\n",
    "- Een IDE (optioneel, maar aangeraden)\n",
    "- Een Google account (voor de Google API)\n",
    "- Een DeepL account (voor de DeepL API)\n",
    "- Een YouTube account (voor de YouTube API) --> Je hebt ook de juiste toegangsrechten nodig!\n",
    "\n",
    "**Notes**:\n",
    "- De data wordt NIET via GitHub bijgehouden wegens Privacy redenen. De data wordt lokaal opgeslagen in de `data` folder.\n",
    "- De data wordt opgeslagen in Excel-formaat. Dit kan je openen met Excel of Google Sheets.\n",
    "- De Python code en comments zijn geschreven in het Engels (eenvoudiger naar documentatie toe), Markdown is in het Nederlands en bevat de interpretatie van de resultaten.\n",
    "- De interpretatie is steeds een momentopname! Indien de data wijzigt, moet ook de interpretatie herzien worden."
   ],
   "id": "7402c7a1ee04a061"
  },
  {
   "metadata": {},
   "cell_type": "code",
   "source": [
    "# Import libraries\n",
    "import importlib\n",
    "import numpy as np\n",
    "from dotenv import load_dotenv"
   ],
   "id": "6670d2d738f900d9",
   "outputs": [],
   "execution_count": null
  },
  {
   "metadata": {},
   "cell_type": "code",
   "source": [
    "# Import .env variables\n",
    "# You will have to create a .env file in the root of this project with the following variables:\n",
    "# YT_API_KEY=xxxxx\n",
    "# YT_CHANNEL_ID=xxxxx\n",
    "# CLIENT_ID=xxxxx\n",
    "# CLIENT_SECRET=xxxxx\n",
    "# PROJECT_ID=xxxxx\n",
    "# DEEPL_API_KEY=xxxxx\n",
    "load_dotenv()"
   ],
   "id": "5e82b502190d83bc",
   "outputs": [],
   "execution_count": null
  },
  {
   "metadata": {},
   "cell_type": "code",
   "source": [
    "# Import custom libraries\n",
    "from lib import youtube, helpers\n",
    "\n",
    "# Automatically reload libraries when changes are made\n",
    "importlib.reload(youtube)\n",
    "importlib.reload(helpers);"
   ],
   "id": "23300db823f56183",
   "outputs": [],
   "execution_count": null
  },
  {
   "metadata": {},
   "cell_type": "markdown",
   "source": "## Data Collectie",
   "id": "ec9de299805ec7f7"
  },
  {
   "metadata": {},
   "cell_type": "markdown",
   "source": "### Deelstudie 1, analyse 1",
   "id": "8f16bf56a8da727a"
  },
  {
   "metadata": {},
   "cell_type": "code",
   "source": [
    "# Get video ids from all videos in a specific data range (2019 to 2024)\n",
    "video_ids = youtube.get_video_ids_in_period('2019-01-01', '2024-12-31')\n",
    "len(video_ids)"
   ],
   "id": "6f89db1fcc4771b8",
   "outputs": [],
   "execution_count": null
  },
  {
   "metadata": {},
   "cell_type": "code",
   "source": [
    "# Get video data based on the video ids\n",
    "# These are things like title, description, channel name, publish date, etc.\n",
    "videos = youtube.get_generic_info(np.array(video_ids))"
   ],
   "id": "70dc9b14a87c183e",
   "outputs": [],
   "execution_count": null
  },
  {
   "metadata": {},
   "cell_type": "code",
   "source": [
    "# Get metrics for each video and over multiple time intervals\n",
    "# These are things like views, likes, comments, etc.\n",
    "metrics = youtube.get_metrics_over_time(videos)"
   ],
   "id": "ed196d9b2c83b181",
   "outputs": [],
   "execution_count": null
  },
  {
   "metadata": {},
   "cell_type": "code",
   "source": [
    "# Merge the two dataframes and remove/rename duplicate columns\n",
    "videos = videos.merge(metrics, how='inner', on='id').set_index('id')\n",
    "videos.drop(columns=['publish_date_y'], inplace=True)\n",
    "videos.rename(columns={'publish_date_x': 'publish_date'}, inplace=True)"
   ],
   "id": "b9f12bd2b55bb0d7",
   "outputs": [],
   "execution_count": null
  },
  {
   "metadata": {},
   "cell_type": "code",
   "source": [
    "# Save data to Excel file\n",
    "videos.to_excel('../data/videos.xlsx')"
   ],
   "id": "1166ce1269b489da",
   "outputs": [],
   "execution_count": null
  },
  {
   "metadata": {},
   "cell_type": "markdown",
   "source": "### Deelstudie 1, analyse 2",
   "id": "7fddccfe825ffeef"
  },
  {
   "metadata": {},
   "cell_type": "code",
   "source": [
    "# Get comments for each video (from the previous step)\n",
    "comments = youtube.get_video_comments(videos)\n",
    "len(comments)"
   ],
   "id": "49dc498b282cf3b2",
   "outputs": [],
   "execution_count": null
  },
  {
   "metadata": {},
   "cell_type": "code",
   "source": [
    "# Anonymize comments (hide handlers)\n",
    "comments = helpers.anonymize_comments(comments)"
   ],
   "id": "9dd1d6c5b4da8d4e",
   "outputs": [],
   "execution_count": null
  },
  {
   "metadata": {},
   "cell_type": "code",
   "source": [
    "# Translate comments to English using Google Translate API\n",
    "# Please note this will take a long time!\n",
    "comments_nl = comments['comment_nl'].tolist()\n",
    "comments_google = [helpers.translate_with_google(comment) for comment in comments_nl]\n",
    "comments['en_google'] = comments_google"
   ],
   "id": "e841a90db0c55b6",
   "outputs": [],
   "execution_count": null
  },
  {
   "metadata": {},
   "cell_type": "code",
   "source": [
    "# Translate comments to English using DeepL API\n",
    "# This also will take a long time (but less than Google)\n",
    "comments_nl = comments['comment_nl'].tolist()\n",
    "comments_deepl = [helpers.translate_with_deepl(comment) for comment in comments_nl]\n",
    "comments['en_deepl'] = comments_deepl"
   ],
   "id": "8847de3ed400880",
   "outputs": [],
   "execution_count": null
  },
  {
   "metadata": {},
   "cell_type": "code",
   "source": [
    "# Save data to Excel file\n",
    "comments.to_excel('../data/comments.xlsx')"
   ],
   "id": "8805376b649bacea",
   "outputs": [],
   "execution_count": null
  },
  {
   "metadata": {},
   "cell_type": "markdown",
   "source": "### Deelstudie 2",
   "id": "dbbe369200cc7c9c"
  },
  {
   "metadata": {},
   "cell_type": "code",
   "source": [
    "# Define video_ids for the experiment\n",
    "video_ids = np.array(['GYtUhykvOos','PkmUT16Um_0','JxWT-zYtcGg','rJbiY3S69ek','ewUjvz3nDj4','BDq4yJCRFcE','ih7RQ5lFwIY','Wm-Yk5bK_fk','4efyusOrx14','PUztndRNSU8','1QsVq3vlZsk'])  #"
   ],
   "id": "500330cde16a92e5",
   "outputs": [],
   "execution_count": null
  },
  {
   "metadata": {},
   "cell_type": "code",
   "source": [
    "# Get information about each video and calculate the corresponding metrics\n",
    "exp_videos = youtube.get_generic_info(video_ids)\n",
    "exp_metrics = youtube.get_metrics_over_time(exp_videos)\n",
    "exp_videos = exp_videos.merge(exp_metrics, how='inner', on='id').set_index('id')\n",
    "exp_videos.drop(columns=['publish_date_y'], inplace=True)\n",
    "exp_videos.rename(columns={'publish_date_x': 'publish_date'}, inplace=True)"
   ],
   "id": "ecacaa7e8a14c4c9",
   "outputs": [],
   "execution_count": null
  },
  {
   "metadata": {},
   "cell_type": "code",
   "source": [
    "# Add manual annotations to the data\n",
    "exp_videos['has_CTA'] = np.array([False, True, True, False, True, True, False, False, True, False, True])\n",
    "exp_videos['is_beta'] = np.array([None, False, False, None, True, True, None, None, False, None, True])\n",
    "exp_videos['university'] = np.array(['KUL', 'VUB', 'UA', 'VUB', 'UG', 'UG', 'UA', 'UG', 'VUB', 'UG', 'UA'])\n",
    "exp_videos['gender'] = np.array([0, 0, 0, 0, 1, 0, 1, 1, 0, 0, 1]) # F=0, M=1\n",
    "exp_videos['has_ambassador'] = np.array([True, True, False, False, False, False, False, False, False, False, False])"
   ],
   "id": "67d4996064590482",
   "outputs": [],
   "execution_count": null
  },
  {
   "metadata": {},
   "cell_type": "code",
   "source": [
    "# Save data to Excel file\n",
    "exp_videos.to_excel('../data/experiment_videos.xlsx')"
   ],
   "id": "24aa0d608cdcb587",
   "outputs": [],
   "execution_count": null
  }
 ],
 "metadata": {
  "kernelspec": {
   "display_name": "Python 3",
   "language": "python",
   "name": "python3"
  },
  "language_info": {
   "codemirror_mode": {
    "name": "ipython",
    "version": 2
   },
   "file_extension": ".py",
   "mimetype": "text/x-python",
   "name": "python",
   "nbconvert_exporter": "python",
   "pygments_lexer": "ipython2",
   "version": "2.7.6"
  }
 },
 "nbformat": 4,
 "nbformat_minor": 5
}
